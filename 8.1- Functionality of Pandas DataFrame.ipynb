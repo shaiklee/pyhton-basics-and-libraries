{
 "cells": [
  {
   "cell_type": "markdown",
   "metadata": {
    "id": "HMLWbuv3LCd4"
   },
   "source": [
    "#Data Structures in Pandas\n",
    "\n",
    "###Demo 2: Functionality of Pandas DataFrame\n",
    "\n",
    "In this demo, you will be shown how to use dataFrames to represent data using Python."
   ]
  },
  {
   "cell_type": "markdown",
   "metadata": {
    "id": "6DKfX-kGLCeL"
   },
   "source": [
    "##### Question 1:\n",
    "\n",
    "Perform the following Pandas Operations\n",
    "\n",
    "    1) From the raw data below create a data frame\n",
    "    \n",
    "    'first_name': ['Jason', 'Molly', 'Tina', 'Jake', 'Amy'], \n",
    "    'last_name': ['Miller', 'Jacobson', \".\", 'Milner', 'Cooze'], \n",
    "    'age': [42, 52, 36, 24, 73], \n",
    "    'preTestScore': [4, 24, 31, \".\", \".\"],\n",
    "    'postTestScore': [\"25,000\", \"94,000\", 57, 62, 70]\n",
    "\n",
    "    2) Save the dataframe into a csv file as example.csv\n",
    "    3) Read the example.csv and print the data frame\n",
    "    4) Read the example.csv without column heading\n",
    "    5) Read the example.csv and make the index columns as 'First Name’ and 'Last   Name'\n",
    "    6) Read the first 3 rows of the dataFrame and print the dataFrame\n",
    "    7) The column 'postTestScore' has \",\" in their values around numbers to represent thousands. Load example.csv file which ignores the default behaviour of comma while reading the 'postTestScore' column \n"
   ]
  },
  {
   "cell_type": "code",
   "execution_count": 2,
   "metadata": {
    "id": "Ip682fPzLCeO",
    "outputId": "f2d5a89b-a379-42b7-cf84-49d51ef7c634"
   },
   "outputs": [
    {
     "name": "stdout",
     "output_type": "stream",
     "text": [
      "  first_name last_name  age preTestScore postTestScore\n",
      "0      Jason    Miller   42            4        25,000\n",
      "1      Molly  Jacobson   52           24        94,000\n",
      "2       Tina         .   36           31            57\n",
      "3       Jake    Milner   24            .            62\n",
      "4        Amy     Cooze   73            .            70\n"
     ]
    }
   ],
   "source": [
    "# Import the required libraries\n",
    "\n",
    "import pandas as pd\n",
    "import numpy as np\n",
    "\n",
    "# 1.1\n",
    "\n",
    "raw_data = {'first_name': ['Jason', 'Molly', 'Tina', 'Jake', 'Amy'],\n",
    "        'last_name': ['Miller', 'Jacobson', \".\", 'Milner', 'Cooze'],\n",
    "        'age': [42, 52, 36, 24, 73],\n",
    "        'preTestScore': [4, 24, 31, \".\", \".\"],\n",
    "        'postTestScore': [\"25,000\", \"94,000\", 57, 62, 70]}\n",
    "df = pd.DataFrame(raw_data, columns = ['first_name', 'last_name', 'age', 'preTestScore', 'postTestScore'])\n",
    "print(df)\n"
   ]
  },
  {
   "cell_type": "code",
   "execution_count": 3,
   "metadata": {},
   "outputs": [],
   "source": [
    "#Import data\n",
    "#Export data"
   ]
  },
  {
   "cell_type": "code",
   "execution_count": 4,
   "metadata": {
    "id": "Fm55IzfMLCeU"
   },
   "outputs": [],
   "source": [
    "# 1.2 Save the dataFrame into a CSV file\n",
    "\n",
    "df.to_csv('example.csv')"
   ]
  },
  {
   "cell_type": "code",
   "execution_count": 5,
   "metadata": {
    "id": "7bmDn1iHLCeW",
    "outputId": "5b29f223-f987-4600-fdf4-578332836814"
   },
   "outputs": [
    {
     "name": "stdout",
     "output_type": "stream",
     "text": [
      "   Unnamed: 0 first_name last_name  age preTestScore postTestScore\n",
      "0           0      Jason    Miller   42            4        25,000\n",
      "1           1      Molly  Jacobson   52           24        94,000\n",
      "2           2       Tina         .   36           31            57\n",
      "3           3       Jake    Milner   24            .            62\n",
      "4           4        Amy     Cooze   73            .            70\n"
     ]
    }
   ],
   "source": [
    "# 1.3 Read data from CSV and print the dataFrame\n",
    "\n",
    "df = pd.read_csv('example.csv', header=0)\n",
    "print(df)"
   ]
  },
  {
   "cell_type": "code",
   "execution_count": 6,
   "metadata": {
    "id": "yI13_cXNLCeX",
    "outputId": "3443cd09-3376-4a22-f800-c8e8fea3024c"
   },
   "outputs": [
    {
     "name": "stdout",
     "output_type": "stream",
     "text": [
      "     0           1          2    3             4              5\n",
      "0  NaN  first_name  last_name  age  preTestScore  postTestScore\n",
      "1  0.0       Jason     Miller   42             4         25,000\n",
      "2  1.0       Molly   Jacobson   52            24         94,000\n",
      "3  2.0        Tina          .   36            31             57\n",
      "4  3.0        Jake     Milner   24             .             62\n",
      "5  4.0         Amy      Cooze   73             .             70\n"
     ]
    }
   ],
   "source": [
    "# 1.4 Read data from CSV without headers\n",
    "\n",
    "df = pd.read_csv('example.csv', header=None)\n",
    "print(df)"
   ]
  },
  {
   "cell_type": "code",
   "execution_count": 7,
   "metadata": {
    "id": "jk9CoQwLLCec",
    "outputId": "e435403c-2ff9-405a-c7aa-1b89783f1637"
   },
   "outputs": [
    {
     "name": "stdout",
     "output_type": "stream",
     "text": [
      "                      UID  Age Pre-Test Score Post-Test Score\n",
      "First Name Last Name                                         \n",
      "Jason      Miller       0   42              4          25,000\n",
      "Molly      Jacobson     1   52             24          94,000\n",
      "Tina       .            2   36             31              57\n",
      "Jake       Milner       3   24              .              62\n",
      "Amy        Cooze        4   73              .              70\n"
     ]
    }
   ],
   "source": [
    "# 1.5 Read the data again with headers and make the index columns as 'First Name’ and 'Last Name'\n",
    "\n",
    "df = pd.read_csv('example.csv', header=0, index_col=['First Name', 'Last Name'], \n",
    "                 names=['UID', 'First Name', 'Last Name', 'Age', 'Pre-Test Score', 'Post-Test Score'])\n",
    "print(df)"
   ]
  },
  {
   "cell_type": "code",
   "execution_count": 8,
   "metadata": {
    "id": "R0VTITkvLCeg",
    "outputId": "0242fe2a-7eb6-4f5d-e075-7fb079f9b9e0"
   },
   "outputs": [
    {
     "name": "stdout",
     "output_type": "stream",
     "text": [
      "   Unnamed: 0 first_name last_name  age  preTestScore postTestScore\n",
      "0           0      Jason    Miller   42             4        25,000\n",
      "1           1      Molly  Jacobson   52            24        94,000\n",
      "2           2       Tina         .   36            31            57\n"
     ]
    }
   ],
   "source": [
    "# 1.6 Read the first 3 rows of the dataFrame and print the dataFrame\n",
    "\n",
    "df = pd.read_csv('example.csv', nrows=3)\n",
    "print(df)"
   ]
  },
  {
   "cell_type": "code",
   "execution_count": 10,
   "metadata": {
    "id": "eb5GyXpaLCei",
    "outputId": "82034b5a-b412-4ff8-8992-d472fd9b1826"
   },
   "outputs": [
    {
     "name": "stdout",
     "output_type": "stream",
     "text": [
      "   Unnamed: 0 first_name last_name  age preTestScore  postTestScore\n",
      "0           0      Jason    Miller   42            4          25000\n",
      "1           1      Molly  Jacobson   52           24          94000\n",
      "2           2       Tina         .   36           31             57\n",
      "3           3       Jake    Milner   24            .             62\n",
      "4           4        Amy     Cooze   73            .             70\n"
     ]
    }
   ],
   "source": [
    "# 1.7\n",
    "df = pd.read_csv('example.csv',  thousands=',')\n",
    "print(df)"
   ]
  },
  {
   "cell_type": "code",
   "execution_count": 11,
   "metadata": {},
   "outputs": [
    {
     "name": "stdout",
     "output_type": "stream",
     "text": [
      "   Unnamed: 0 first_name last_name  age preTestScore postTestScore\n",
      "0           0      Jason    Miller   42            4        25,000\n",
      "1           1      Molly  Jacobson   52           24        94,000\n",
      "2           2       Tina         .   36           31            57\n",
      "3           3       Jake    Milner   24            .            62\n",
      "4           4        Amy     Cooze   73            .            70\n"
     ]
    }
   ],
   "source": [
    "import pandas as pd\n",
    "\n",
    "# Define a custom converter function to handle thousands separator for the 'posttestscores' column\n",
    "def convert_posttestscores(value):\n",
    "    try:\n",
    "        # Convert the value to a float after removing commas\n",
    "        return float(value.replace(',', ''))\n",
    "    except ValueError:\n",
    "        # If conversion fails, return the original value\n",
    "        return value\n",
    "# Read the CSV file, applying the custom converter to the 'posttestscores' column\n",
    "df = pd.read_csv('example.csv', converters={'posttestscores': convert_posttestscores})\n",
    "# Print the DataFrame to inspect the data\n",
    "print(df)\n"
   ]
  },
  {
   "cell_type": "markdown",
   "metadata": {
    "id": "mUjStc3ro44X"
   },
   "source": [
    "##### Question 2:\n",
    "\n",
    "    1) Read diabetes data from a CSV file\n",
    "    2) Print the first 10 rows and last 5 of the dataFrame\n",
    "    3) Display a summary of the data in dataFrame\n",
    "    4) Display summary of only Glucose column\n",
    "    5) Take a sample of the data using first 15 rows\n",
    "    6) Add a new column \"New_Age\" in the dataframe by adding 1 to values in existing \"Age\" column\n",
    "    7) Drop the column \"SkinThickness\" as it is not relevant to our analysis\n",
    "    8) Filter rows where patient's age is greater than or equal to 50 since such patients have high possibility of having diabetes. Use column New_Age. Incorporate another condition for filtering rows as Outcome = 1.\n",
    "    9) Sort values in the dataFrame df4 by \"Glucose\" in descending order"
   ]
  },
  {
   "cell_type": "code",
   "execution_count": null,
   "metadata": {
    "colab": {
     "base_uri": "https://localhost:8080/"
    },
    "executionInfo": {
     "elapsed": 1663,
     "status": "ok",
     "timestamp": 1649244646484,
     "user": {
      "displayName": "Prerna Singh",
      "userId": "17577381015817415996"
     },
     "user_tz": -330
    },
    "id": "9ZTDwLyMo7Ha",
    "outputId": "f3620af9-ff11-414c-f1d4-58876f4a69b8"
   },
   "outputs": [],
   "source": [
    "# 1. Read diabetes data from a CSV file\n",
    "import pandas as pd\n",
    "df = pd.read_csv('diabetes.csv')\n",
    "\n",
    "\n",
    "# 2.Print the first 10 rows of the dataFrame\n",
    "print(df.head(10))\n",
    "\n",
    "#print(df[\"BloodPressure\"].head(5))"
   ]
  },
  {
   "cell_type": "code",
   "execution_count": null,
   "metadata": {
    "colab": {
     "base_uri": "https://localhost:8080/"
    },
    "executionInfo": {
     "elapsed": 481,
     "status": "ok",
     "timestamp": 1649244655887,
     "user": {
      "displayName": "Prerna Singh",
      "userId": "17577381015817415996"
     },
     "user_tz": -330
    },
    "id": "SA29UG4spAVi",
    "outputId": "4ea89e00-80ce-4299-b151-2806f43e9cdc"
   },
   "outputs": [],
   "source": [
    "#3. Print the last 5 rows of the dataFrame\n",
    "print(df.tail())"
   ]
  },
  {
   "cell_type": "code",
   "execution_count": null,
   "metadata": {
    "colab": {
     "base_uri": "https://localhost:8080/"
    },
    "executionInfo": {
     "elapsed": 472,
     "status": "ok",
     "timestamp": 1649244663487,
     "user": {
      "displayName": "Prerna Singh",
      "userId": "17577381015817415996"
     },
     "user_tz": -330
    },
    "id": "zmFRz_wipEyn",
    "outputId": "5aea70da-5f02-46df-d7cd-be9a2eea57b5"
   },
   "outputs": [],
   "source": [
    "# 4.Display a summary of the data in dataFrame\n",
    "print(df.describe())"
   ]
  },
  {
   "cell_type": "code",
   "execution_count": null,
   "metadata": {
    "colab": {
     "base_uri": "https://localhost:8080/"
    },
    "executionInfo": {
     "elapsed": 14,
     "status": "ok",
     "timestamp": 1649244673533,
     "user": {
      "displayName": "Prerna Singh",
      "userId": "17577381015817415996"
     },
     "user_tz": -330
    },
    "id": "dCb6j8HjpGpl",
    "outputId": "cf97dbdb-6404-48df-dc68-cdf80247cbdd"
   },
   "outputs": [],
   "source": [
    "# Display summary of only Glucose column\n",
    "print(df['Glucose'].describe())\n",
    "#print(df.Glucose.describe())"
   ]
  },
  {
   "cell_type": "code",
   "execution_count": null,
   "metadata": {},
   "outputs": [],
   "source": [
    "#Selection : 1.Label based 2.Index based 3.Conditional statement\n",
    "#In Pandas, iloc, loc, and at are three different ways to access and modify data in a DataFrame."
   ]
  },
  {
   "cell_type": "code",
   "execution_count": null,
   "metadata": {},
   "outputs": [],
   "source": [
    "#at:at is used for fast access to a single scalar value in a DataFrame\n",
    "df2=df.at[2,'Age']\n",
    "#df2=df.at[2,'Age']=35\n",
    "df2"
   ]
  },
  {
   "cell_type": "code",
   "execution_count": null,
   "metadata": {
    "colab": {
     "base_uri": "https://localhost:8080/"
    },
    "executionInfo": {
     "elapsed": 6,
     "status": "ok",
     "timestamp": 1649244682218,
     "user": {
      "displayName": "Prerna Singh",
      "userId": "17577381015817415996"
     },
     "user_tz": -330
    },
    "id": "TR2dGJ6epIYp",
    "outputId": "64acb452-72f8-45bb-fa3a-0daf28cffc6a"
   },
   "outputs": [],
   "source": [
    "# 5.Take a sample of the data using first 15 rows\n",
    "df2 = df.iloc[:15] #iloc (Integer-location based indexing):meaning you provide the row and column indices using integers.\n",
    "print(df2)"
   ]
  },
  {
   "cell_type": "code",
   "execution_count": null,
   "metadata": {},
   "outputs": [],
   "source": [
    "#loc:loc is label-based indexing, meaning you provide the row and column labels.\n",
    "df2=df.loc[5:15,['Glucose','BloodPressure']]\n",
    "print(df2)"
   ]
  },
  {
   "cell_type": "code",
   "execution_count": null,
   "metadata": {},
   "outputs": [],
   "source": [
    "#conditional \n",
    "df2=df[df[\"BloodPressure\"]>70]\n",
    "df2"
   ]
  },
  {
   "cell_type": "code",
   "execution_count": null,
   "metadata": {
    "colab": {
     "base_uri": "https://localhost:8080/"
    },
    "executionInfo": {
     "elapsed": 541,
     "status": "ok",
     "timestamp": 1649244690482,
     "user": {
      "displayName": "Prerna Singh",
      "userId": "17577381015817415996"
     },
     "user_tz": -330
    },
    "id": "62Na-D07pLQK",
    "outputId": "3a898035-4150-4bce-9b3a-2f00e1188c84"
   },
   "outputs": [],
   "source": [
    "# 6. Add a new column \"New_Age\" in the dataframe by adding 1 to values in existing \"Age\" column\n",
    "df2['New_Age']=df['Age'] + 1\n",
    "print(df2)"
   ]
  },
  {
   "cell_type": "code",
   "execution_count": null,
   "metadata": {
    "colab": {
     "base_uri": "https://localhost:8080/"
    },
    "executionInfo": {
     "elapsed": 410,
     "status": "ok",
     "timestamp": 1649244698710,
     "user": {
      "displayName": "Prerna Singh",
      "userId": "17577381015817415996"
     },
     "user_tz": -330
    },
    "id": "0gTrmDu7pNOG",
    "outputId": "64f5aee3-64d5-45fa-a172-21c2a62f4f1f"
   },
   "outputs": [],
   "source": [
    "#7. Drop the column \"SkinThickness\" as it is not relevant to our analysis\n",
    "\n",
    "df3 = df2.drop(['SkinThickness'], axis=1)\n",
    "print(df3.head())"
   ]
  },
  {
   "cell_type": "code",
   "execution_count": null,
   "metadata": {
    "colab": {
     "base_uri": "https://localhost:8080/",
     "height": 281
    },
    "executionInfo": {
     "elapsed": 508,
     "status": "ok",
     "timestamp": 1649244707635,
     "user": {
      "displayName": "Prerna Singh",
      "userId": "17577381015817415996"
     },
     "user_tz": -330
    },
    "id": "AiP3zJGFpPRM",
    "outputId": "e210cc06-4280-40b4-ee4a-95877ef3d773"
   },
   "outputs": [],
   "source": [
    "# 8.Filter rows where patient's age is greater than or equal to 50 since such patients have high possibility of having diabetes. \n",
    "# Use column New_Age\n",
    "\n",
    "df3[df3['New_Age']>= 50]\n",
    "df3"
   ]
  },
  {
   "cell_type": "code",
   "execution_count": null,
   "metadata": {
    "colab": {
     "base_uri": "https://localhost:8080/",
     "height": 250
    },
    "executionInfo": {
     "elapsed": 441,
     "status": "ok",
     "timestamp": 1649244713314,
     "user": {
      "displayName": "Prerna Singh",
      "userId": "17577381015817415996"
     },
     "user_tz": -330
    },
    "id": "1gdRmbVQpRbD",
    "outputId": "d67d2f6d-b7ad-4d0b-af97-dc035ade9288"
   },
   "outputs": [],
   "source": [
    "# Incorporate another condition for filtering rows as Outcome is '1'\n",
    "\n",
    "df4 = df3[(df3['New_Age']>= 50) & (df3['Outcome'] == 1)]\n",
    "df4"
   ]
  },
  {
   "cell_type": "code",
   "execution_count": null,
   "metadata": {
    "colab": {
     "base_uri": "https://localhost:8080/",
     "height": 250
    },
    "executionInfo": {
     "elapsed": 386,
     "status": "ok",
     "timestamp": 1649244718783,
     "user": {
      "displayName": "Prerna Singh",
      "userId": "17577381015817415996"
     },
     "user_tz": -330
    },
    "id": "vzmN0cJTpS09",
    "outputId": "6b4d6465-0de8-43d3-ce18-53f1426dfbce"
   },
   "outputs": [],
   "source": [
    "#9. Sort values in the dataFrame df4 by \"Glucose\" in descending order\n",
    "\n",
    "df4.sort_values(by=['Glucose'], ascending = False)"
   ]
  },
  {
   "cell_type": "markdown",
   "metadata": {
    "id": "W6djF_wDpZR3"
   },
   "source": [
    "##### Conclusion: This code demonstrates how to create dataFrames in pandas and use various functionality of dataFrames"
   ]
  }
 ],
 "metadata": {
  "colab": {
   "collapsed_sections": [],
   "name": "1752_day5_demo2 - Functionality of Pandas DataFrame.ipynb",
   "provenance": []
  },
  "kernelspec": {
   "display_name": "Python 3 (ipykernel)",
   "language": "python",
   "name": "python3"
  },
  "language_info": {
   "codemirror_mode": {
    "name": "ipython",
    "version": 3
   },
   "file_extension": ".py",
   "mimetype": "text/x-python",
   "name": "python",
   "nbconvert_exporter": "python",
   "pygments_lexer": "ipython3",
   "version": "3.11.5"
  }
 },
 "nbformat": 4,
 "nbformat_minor": 4
}
