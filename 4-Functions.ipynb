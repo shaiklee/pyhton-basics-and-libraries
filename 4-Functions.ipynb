{
 "cells": [
  {
   "cell_type": "code",
   "execution_count": 49,
   "id": "a462cb0d-e0cc-4bfb-b724-15a3388faa61",
   "metadata": {},
   "outputs": [],
   "source": [
    "#FUNCTIONS - Block of code which only runs when it is called. You can pass data known as parameters.\n",
    "def example():\n",
    "    print(\"Welcome to DSML Class\")"
   ]
  },
  {
   "cell_type": "code",
   "execution_count": 39,
   "id": "631f4e58-61de-428d-9b18-b6407442db9f",
   "metadata": {},
   "outputs": [
    {
     "name": "stdout",
     "output_type": "stream",
     "text": [
      "Welcome to DSML Class\n"
     ]
    }
   ],
   "source": [
    "#function call\n",
    "example()"
   ]
  },
  {
   "cell_type": "code",
   "execution_count": 51,
   "id": "1711309c-fa28-46fd-929e-ccdd7914ffc5",
   "metadata": {},
   "outputs": [
    {
     "name": "stdin",
     "output_type": "stream",
     "text": [
      "Enter your name Antony\n"
     ]
    },
    {
     "name": "stdout",
     "output_type": "stream",
     "text": [
      "Welcome to python, Antony\n"
     ]
    }
   ],
   "source": [
    "#Example -2\n",
    "def print_name(str):\n",
    "    print(\"Welcome to python,\",str)\n",
    "\n",
    "str = input(\"Enter your name\")\n",
    "print_name(str) #function call"
   ]
  },
  {
   "cell_type": "code",
   "execution_count": 53,
   "id": "583ebbb1-c8ff-4362-90cb-ebd5c55db4d0",
   "metadata": {},
   "outputs": [
    {
     "name": "stdin",
     "output_type": "stream",
     "text": [
      "Enter first number 3\n",
      "Enter second number 4\n"
     ]
    },
    {
     "name": "stdout",
     "output_type": "stream",
     "text": [
      "Sum is: 7\n"
     ]
    }
   ],
   "source": [
    "#The RETURN statement- terminates the execution of a function and returns control to the calling function\n",
    "def add(a,b):\n",
    "    sum=a+b\n",
    "    return(sum) #return statement\n",
    "\n",
    "num1=input(\"Enter first number\")\n",
    "num2= input(\"Enter second number\")\n",
    "n1= int(num1)\n",
    "n2=int(num2)\n",
    "ans=add(n1,n2) #function call\n",
    "print(\"Sum is:\",ans)"
   ]
  },
  {
   "cell_type": "code",
   "execution_count": 42,
   "id": "153aee74-136b-41b2-8dff-8a2e89fcebef",
   "metadata": {},
   "outputs": [],
   "source": [
    "#Example-3\n",
    "def sum(num1,num2):\n",
    "    return num1+num2\n",
    "def Average(num1,num2):\n",
    "    return (num1+num2)/2\n",
    "def F1(num1,num2):\n",
    "  add= sum(num1,num2)\n",
    "  avg = Average(num1,num2)\n",
    "  return add,avg"
   ]
  },
  {
   "cell_type": "code",
   "execution_count": 43,
   "id": "f190c900-e3ca-451a-9490-bf87cc97dca1",
   "metadata": {},
   "outputs": [
    {
     "name": "stdout",
     "output_type": "stream",
     "text": [
      "30 15.0\n"
     ]
    }
   ],
   "source": [
    "result1,result2 = F1(10,20)\n",
    "print(result1, result2)"
   ]
  },
  {
   "cell_type": "code",
   "execution_count": 35,
   "id": "50639f8f-a1d7-4e98-a60c-9e1f71a0be81",
   "metadata": {},
   "outputs": [],
   "source": [
    "#Example-4\n",
    "def celcius_to_farhn(temp):\n",
    "    return 9/5*temp+32"
   ]
  },
  {
   "cell_type": "code",
   "execution_count": 36,
   "id": "b2c789b6-49f8-494a-b4f1-9112ebe99046",
   "metadata": {},
   "outputs": [
    {
     "name": "stdout",
     "output_type": "stream",
     "text": [
      "30 celcius is equal to 86.0\n"
     ]
    }
   ],
   "source": [
    "celcius_temperature=30\n",
    "farenheit_temperature=celcius_to_farhn(celcius_temperature)\n",
    "print(f\"{celcius_temperature} celcius is equal to {farenheit_temperature}\")"
   ]
  },
  {
   "cell_type": "code",
   "execution_count": 37,
   "id": "0d2259a2-3607-4b0c-90ae-073c3208361a",
   "metadata": {},
   "outputs": [
    {
     "data": {
      "text/plain": [
       "68.0"
      ]
     },
     "execution_count": 37,
     "metadata": {},
     "output_type": "execute_result"
    }
   ],
   "source": [
    "celcius_to_farhn(20)"
   ]
  },
  {
   "cell_type": "code",
   "execution_count": 67,
   "id": "5a30b80b-efe0-4d1a-8662-fa4967f2dcf7",
   "metadata": {},
   "outputs": [
    {
     "name": "stdout",
     "output_type": "stream",
     "text": [
      "0 4 8 12 16 20 24 28 32 36 40 44 48 52 56 60 64 68 72 76 80 84 88 92 96 "
     ]
    }
   ],
   "source": [
    "for i in range(0,99,4):\n",
    "    print(i,end=' ')"
   ]
  },
  {
   "cell_type": "code",
   "execution_count": 1,
   "id": "74c334b8-9b4c-49d5-a8b4-740419ec8bff",
   "metadata": {},
   "outputs": [
    {
     "name": "stdout",
     "output_type": "stream",
     "text": [
      "Addition is 33\n"
     ]
    },
    {
     "ename": "NameError",
     "evalue": "name 'x' is not defined",
     "output_type": "error",
     "traceback": [
      "\u001b[1;31m---------------------------------------------------------------------------\u001b[0m",
      "\u001b[1;31mNameError\u001b[0m                                 Traceback (most recent call last)",
      "Cell \u001b[1;32mIn[1], line 7\u001b[0m\n\u001b[0;32m      5\u001b[0m     \u001b[38;5;28mprint\u001b[39m(\u001b[38;5;124m\"\u001b[39m\u001b[38;5;124mAddition is\u001b[39m\u001b[38;5;124m\"\u001b[39m,\u001b[38;5;28msum\u001b[39m)\n\u001b[0;32m      6\u001b[0m \u001b[38;5;28msum\u001b[39m(\u001b[38;5;241m3\u001b[39m)\n\u001b[1;32m----> 7\u001b[0m \u001b[38;5;28mprint\u001b[39m(\u001b[38;5;124m'\u001b[39m\u001b[38;5;124mValue of x\u001b[39m\u001b[38;5;124m'\u001b[39m,x)\n",
      "\u001b[1;31mNameError\u001b[0m: name 'x' is not defined"
     ]
    }
   ],
   "source": [
    "a=30\n",
    "def sum(b):\n",
    "    x=30\n",
    "    sum=b+x\n",
    "    print(\"Addition is\",sum)\n",
    "sum(3)\n",
    "print('Value of x',x)"
   ]
  },
  {
   "cell_type": "code",
   "execution_count": 70,
   "id": "9e15cc23-f14e-477d-a897-ff13e0ed14d3",
   "metadata": {},
   "outputs": [
    {
     "name": "stdout",
     "output_type": "stream",
     "text": [
      "Substring is:  Keyword arguement\n"
     ]
    }
   ],
   "source": [
    "#Function arguements\n",
    "#Keyword arguement\n",
    "def substring1(start_index,stop_index,str1):\n",
    "    print(\"Substring is:\",str1[start_index:stop_index])\n",
    "substring1(str1=\"Example of Keyword arguement\",start_index=10,stop_index=30)"
   ]
  },
  {
   "cell_type": "code",
   "execution_count": 72,
   "id": "5e1ff57a-17a2-4200-905a-6f043edd75e2",
   "metadata": {},
   "outputs": [
    {
     "name": "stdout",
     "output_type": "stream",
     "text": [
      "Name: John\n",
      "Age: 25\n",
      "Name: Micheal\n",
      "Age: 40\n"
     ]
    },
    {
     "data": {
      "text/plain": [
       "()"
      ]
     },
     "execution_count": 72,
     "metadata": {},
     "output_type": "execute_result"
    }
   ],
   "source": [
    "#Default arguements\n",
    "def info(name, age=30):\n",
    "    print(\"Name:\",name)\n",
    "    print(\"Age:\",age)\n",
    "    return()\n",
    "info(age=25,name=\"John\")\n",
    "info(name=\"Micheal\",age=40)"
   ]
  },
  {
   "cell_type": "code",
   "execution_count": 27,
   "id": "b8fef2b0-5cbe-406a-bec7-5386cff4b2ec",
   "metadata": {},
   "outputs": [
    {
     "name": "stdout",
     "output_type": "stream",
     "text": [
      "products purchased:\n",
      "Chocolates Milk\n"
     ]
    },
    {
     "ename": "TypeError",
     "evalue": "purchaseinfo() missing 1 required positional argument: 'product2'",
     "output_type": "error",
     "traceback": [
      "\u001b[1;31m---------------------------------------------------------------------------\u001b[0m",
      "\u001b[1;31mTypeError\u001b[0m                                 Traceback (most recent call last)",
      "Cell \u001b[1;32mIn[27], line 7\u001b[0m\n\u001b[0;32m      5\u001b[0m     \u001b[38;5;28;01mreturn\u001b[39;00m()\n\u001b[0;32m      6\u001b[0m purchaseinfo(\u001b[38;5;124m\"\u001b[39m\u001b[38;5;124mChocolates\u001b[39m\u001b[38;5;124m\"\u001b[39m,\u001b[38;5;124m\"\u001b[39m\u001b[38;5;124mMilk\u001b[39m\u001b[38;5;124m\"\u001b[39m)\n\u001b[1;32m----> 7\u001b[0m purchaseinfo(\u001b[38;5;124m\"\u001b[39m\u001b[38;5;124mcookies\u001b[39m\u001b[38;5;124m\"\u001b[39m)\n",
      "\u001b[1;31mTypeError\u001b[0m: purchaseinfo() missing 1 required positional argument: 'product2'"
     ]
    }
   ],
   "source": [
    "#Variable length arguements\n",
    "def purchaseinfo(product1,product2):\n",
    "    print(\"products purchased:\")\n",
    "    print(product1,product2)\n",
    "    return()\n",
    "purchaseinfo(\"Chocolates\",\"Milk\")\n",
    "purchaseinfo(\"cookies\")"
   ]
  },
  {
   "cell_type": "code",
   "execution_count": 28,
   "id": "0a6ede13-8361-436b-8424-aa88e6b7c1ec",
   "metadata": {},
   "outputs": [
    {
     "name": "stdout",
     "output_type": "stream",
     "text": [
      "products purchased:\n",
      "Chocolates\n",
      "Milk\n",
      "products purchased:\n",
      "cookies\n"
     ]
    },
    {
     "data": {
      "text/plain": [
       "()"
      ]
     },
     "execution_count": 28,
     "metadata": {},
     "output_type": "execute_result"
    }
   ],
   "source": [
    "def purchaseinfo(product1,*products):\n",
    "    print(\"products purchased:\")\n",
    "    print(product1)\n",
    "    for item in products:\n",
    "        print(item)\n",
    "    return()\n",
    "purchaseinfo(\"Chocolates\",\"Milk\")\n",
    "purchaseinfo(\"cookies\")"
   ]
  },
  {
   "cell_type": "code",
   "execution_count": 29,
   "id": "71f35d2a-1705-456b-958e-4138eeedd692",
   "metadata": {},
   "outputs": [
    {
     "name": "stdout",
     "output_type": "stream",
     "text": [
      "[4, 6, 12]\n"
     ]
    }
   ],
   "source": [
    "#Lambda function\n",
    "#example - python function to filter an even number from a list.\n",
    "my_list=[1,5,4,6,11,3,12]\n",
    "new_list=[] #initialising new list\n",
    "for num in my_list:\n",
    "    if num%2==0:\n",
    "        new_list.append(num)\n",
    "print(new_list)"
   ]
  },
  {
   "cell_type": "code",
   "execution_count": 30,
   "id": "167c8864-c6b5-4645-99ef-cbdae4996bea",
   "metadata": {},
   "outputs": [
    {
     "name": "stdout",
     "output_type": "stream",
     "text": [
      "[4, 6, 12]\n"
     ]
    }
   ],
   "source": [
    "#using filter and lambda function\n",
    "my_list=[1,5,4,6,11,3,12]\n",
    "new_list1=list(filter(lambda num:(num%2==0),my_list))\n",
    "print(new_list1)"
   ]
  },
  {
   "cell_type": "code",
   "execution_count": 48,
   "id": "5f2d472f-1af0-4cf3-b1bc-e73bf1dca0e0",
   "metadata": {},
   "outputs": [
    {
     "name": "stdout",
     "output_type": "stream",
     "text": [
      "[2, 14, 44, 194, 108, 124, 154, 46, 146, 122]\n"
     ]
    }
   ],
   "source": [
    "#using map function\n",
    "my_list=[1,7,22,97,54,62,77,23,73,61]\n",
    "new_list=list(map(lambda x:x*2,my_list))\n",
    "print(new_list)"
   ]
  },
  {
   "cell_type": "code",
   "execution_count": null,
   "id": "2dbf0be3-d5c3-45ed-a24b-17abff9192f2",
   "metadata": {},
   "outputs": [],
   "source": []
  }
 ],
 "metadata": {
  "kernelspec": {
   "display_name": "Python 3 (ipykernel)",
   "language": "python",
   "name": "python3"
  },
  "language_info": {
   "codemirror_mode": {
    "name": "ipython",
    "version": 3
   },
   "file_extension": ".py",
   "mimetype": "text/x-python",
   "name": "python",
   "nbconvert_exporter": "python",
   "pygments_lexer": "ipython3",
   "version": "3.11.5"
  }
 },
 "nbformat": 4,
 "nbformat_minor": 5
}
