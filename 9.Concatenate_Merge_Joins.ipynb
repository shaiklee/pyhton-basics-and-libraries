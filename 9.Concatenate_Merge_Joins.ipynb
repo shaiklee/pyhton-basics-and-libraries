{
 "cells": [
  {
   "cell_type": "markdown",
   "id": "774bb922-a89e-4c69-9230-a044fb07fc61",
   "metadata": {},
   "source": [
    "Concatenate, Merge Data and Joins"
   ]
  },
  {
   "cell_type": "code",
   "execution_count": 1,
   "id": "9f55c951-deea-41a3-8b45-97a86bc70180",
   "metadata": {},
   "outputs": [],
   "source": [
    "import pandas as pd"
   ]
  },
  {
   "cell_type": "code",
   "execution_count": 2,
   "id": "663fcd70-6db6-4a2e-bc31-0545adbf7b39",
   "metadata": {},
   "outputs": [
    {
     "name": "stdout",
     "output_type": "stream",
     "text": [
      "   id   Name Subject_id\n",
      "0   1   Alex       sub1\n",
      "1   2    Amy       sub2\n",
      "2   3  Allen       sub4\n",
      "3   4  Alice       sub6\n",
      "4   5  Ayong       sub5\n",
      "0   1  Billy       sub2\n",
      "1   2  Brian       sub4\n",
      "2   3   Bran       sub3\n",
      "3   4  Bryce       sub6\n",
      "4   5  Betty       sub5\n"
     ]
    }
   ],
   "source": [
    "#Concatenation\n",
    "Df1=pd.DataFrame({\n",
    "    'id':[1,2,3,4,5],\n",
    "    'Name':['Alex','Amy','Allen','Alice','Ayong'],\n",
    "    'Subject_id':['sub1','sub2','sub4','sub6','sub5']})\n",
    "Df2=pd.DataFrame({\n",
    "    'id':[1,2,3,4,5],\n",
    "    'Name':['Billy','Brian','Bran','Bryce','Betty'],\n",
    "    'Subject_id':['sub2','sub4','sub3','sub6','sub5']})\n",
    "df3=pd.concat([Df1,Df2])\n",
    "print(df3)"
   ]
  },
  {
   "cell_type": "code",
   "execution_count": 3,
   "id": "8873c588-ba3b-47e4-a752-2118b807d903",
   "metadata": {},
   "outputs": [
    {
     "name": "stdout",
     "output_type": "stream",
     "text": [
      "   id   Name Subject_id\n",
      "0   1   Alex       sub1\n",
      "1   2    Amy       sub2\n",
      "2   3  Allen       sub4\n",
      "3   4  Alice       sub6\n",
      "4   5  Ayong       sub5\n",
      "   id   Name Subject_id\n",
      "0   1  Billy       sub2\n",
      "1   2  Brian       sub4\n",
      "2   3   Bran       sub3\n",
      "3   4  Bryce       sub6\n",
      "4   5  Betty       sub5\n"
     ]
    }
   ],
   "source": [
    "#Merging and joining of data frames\n",
    "import pandas as pd\n",
    "left=pd.DataFrame({\n",
    "    'id':[1,2,3,4,5],\n",
    "    'Name':['Alex','Amy','Allen','Alice','Ayong'],\n",
    "    'Subject_id':['sub1','sub2','sub4','sub6','sub5']})\n",
    "right=pd.DataFrame({\n",
    "    'id':[1,2,3,4,5],\n",
    "    'Name':['Billy','Brian','Bran','Bryce','Betty'],\n",
    "    'Subject_id':['sub2','sub4','sub3','sub6','sub5']})\n",
    "print(left)\n",
    "print(right)"
   ]
  },
  {
   "cell_type": "code",
   "execution_count": 4,
   "id": "c7790a0b-f168-400a-9c42-f5c436ead975",
   "metadata": {},
   "outputs": [
    {
     "name": "stdout",
     "output_type": "stream",
     "text": [
      "   id Name_x Subject_id_x Name_y Subject_id_y\n",
      "0   1   Alex         sub1  Billy         sub2\n",
      "1   2    Amy         sub2  Brian         sub4\n",
      "2   3  Allen         sub4   Bran         sub3\n",
      "3   4  Alice         sub6  Bryce         sub6\n",
      "4   5  Ayong         sub5  Betty         sub5\n"
     ]
    }
   ],
   "source": [
    "#Merge two dataframes on a key\n",
    "import pandas as pd\n",
    "print(pd.merge(left,right,on='id'))"
   ]
  },
  {
   "cell_type": "code",
   "execution_count": 5,
   "id": "9985d088-05fe-43c5-a33b-e5a6b25bae24",
   "metadata": {},
   "outputs": [
    {
     "name": "stdout",
     "output_type": "stream",
     "text": [
      "   id Name_x Subject_id Name_y\n",
      "0   4  Alice       sub6  Bryce\n",
      "1   5  Ayong       sub5  Betty\n"
     ]
    }
   ],
   "source": [
    "#Merge Two dataframes on multiple keys\n",
    "import pandas as pd\n",
    "left=pd.DataFrame({\n",
    "    'id':[1,2,3,4,5],\n",
    "    'Name':['Alex','Amy','Allen','Alice','Ayong'],\n",
    "    'Subject_id':['sub1','sub2','sub4','sub6','sub5']})\n",
    "right=pd.DataFrame({\n",
    "    'id':[1,2,3,4,5],\n",
    "    'Name':['Billy','Brian','Bran','Bryce','Betty'],\n",
    "    'Subject_id':['sub2','sub4','sub3','sub6','sub5']})\n",
    "print(pd.merge(left,right,on=['id','Subject_id']))"
   ]
  },
  {
   "cell_type": "code",
   "execution_count": 7,
   "id": "8390362e-aac5-4a69-8756-05eafba40d09",
   "metadata": {},
   "outputs": [
    {
     "name": "stdout",
     "output_type": "stream",
     "text": [
      "   id_x Name_x Subject_id  id_y Name_y\n",
      "0     1   Alex       sub1   NaN    NaN\n",
      "1     2    Amy       sub7   NaN    NaN\n",
      "2     3  Allen       sub4   2.0  Brian\n",
      "3     4  Alice       sub6   4.0  Bryce\n",
      "4     5  Ayong       sub5   5.0  Betty\n"
     ]
    }
   ],
   "source": [
    "#left and right join\n",
    "import pandas as pd\n",
    "left=pd.DataFrame({\n",
    "    'id':[1,2,3,4,5],\n",
    "    'Name':['Alex','Amy','Allen','Alice','Ayong'],\n",
    "    'Subject_id':['sub1','sub7','sub4','sub6','sub5']})\n",
    "right=pd.DataFrame({\n",
    "    'id':[1,2,3,4,5],\n",
    "    'Name':['Billy','Brian','Bran','Bryce','Betty'],\n",
    "    'Subject_id':['sub2','sub4','sub3','sub6','sub5']})\n",
    "print(pd.merge(left,right,on=['Subject_id'],how='left')) #left outer join"
   ]
  },
  {
   "cell_type": "code",
   "execution_count": 8,
   "id": "b4616d18-5b03-4840-bf6f-8417321d76c6",
   "metadata": {},
   "outputs": [
    {
     "name": "stdout",
     "output_type": "stream",
     "text": [
      "   id_x Name_x Subject_id  id_y Name_y\n",
      "0   NaN    NaN       sub2     1  Billy\n",
      "1   3.0  Allen       sub4     2  Brian\n",
      "2   NaN    NaN       sub3     3   Bran\n",
      "3   4.0  Alice       sub6     4  Bryce\n",
      "4   5.0  Ayong       sub5     5  Betty\n"
     ]
    }
   ],
   "source": [
    "print(pd.merge(left,right,on=['Subject_id'],how='right')) #Right outer join"
   ]
  },
  {
   "cell_type": "code",
   "execution_count": 9,
   "id": "d51f9439-630b-4ea6-a6b1-03e03e8ec09d",
   "metadata": {},
   "outputs": [
    {
     "name": "stdout",
     "output_type": "stream",
     "text": [
      "   id_x Name_x Subject_id  id_y Name_y\n",
      "0   1.0   Alex       sub1   NaN    NaN\n",
      "1   NaN    NaN       sub2   1.0  Billy\n",
      "2   NaN    NaN       sub3   3.0   Bran\n",
      "3   3.0  Allen       sub4   2.0  Brian\n",
      "4   5.0  Ayong       sub5   5.0  Betty\n",
      "5   4.0  Alice       sub6   4.0  Bryce\n",
      "6   2.0    Amy       sub7   NaN    NaN\n"
     ]
    }
   ],
   "source": [
    "print(pd.merge(left,right,on=['Subject_id'],how='outer')) #outer join"
   ]
  },
  {
   "cell_type": "code",
   "execution_count": 10,
   "id": "3e5f9167-c3a5-4d91-8b54-b5cb76c8482d",
   "metadata": {},
   "outputs": [
    {
     "name": "stdout",
     "output_type": "stream",
     "text": [
      "   id_x Name_x Subject_id  id_y Name_y\n",
      "0     3  Allen       sub4     2  Brian\n",
      "1     4  Alice       sub6     4  Bryce\n",
      "2     5  Ayong       sub5     5  Betty\n"
     ]
    }
   ],
   "source": [
    "print(pd.merge(left,right,on=['Subject_id'],how='inner')) #inner join"
   ]
  },
  {
   "cell_type": "code",
   "execution_count": null,
   "id": "a58f6ee4-a850-4a81-a5fd-f6d4b11e4337",
   "metadata": {},
   "outputs": [],
   "source": []
  }
 ],
 "metadata": {
  "kernelspec": {
   "display_name": "Python 3 (ipykernel)",
   "language": "python",
   "name": "python3"
  },
  "language_info": {
   "codemirror_mode": {
    "name": "ipython",
    "version": 3
   },
   "file_extension": ".py",
   "mimetype": "text/x-python",
   "name": "python",
   "nbconvert_exporter": "python",
   "pygments_lexer": "ipython3",
   "version": "3.11.5"
  }
 },
 "nbformat": 4,
 "nbformat_minor": 5
}
