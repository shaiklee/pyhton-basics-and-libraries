{
 "cells": [
  {
   "cell_type": "markdown",
   "metadata": {},
   "source": [
    "\n",
    "\n",
    "## Demo 2: Array Creation And Manipulation\n"
   ]
  },
  {
   "cell_type": "code",
   "execution_count": null,
   "metadata": {},
   "outputs": [],
   "source": [
    "#Reshaping of an array\n",
    "import numpy as np   #Importing library\n",
    "a = np.array([3,6,9,12,15,96])\n",
    "print(\"Shape of a:\",a.shape)\n",
    "\n",
    "b = a.reshape(2,3)\n",
    "\n",
    "print(b)\n",
    "print(\"Shape of b:\",b.shape)\n",
    "\n",
    "#a=np.array([3,6,9,12,63])\n",
    "#b = a.reshape(2,2)\n",
    "#print(b) #Error ! can not reshape"
   ]
  },
  {
   "cell_type": "code",
   "execution_count": null,
   "metadata": {},
   "outputs": [],
   "source": [
    "#ravel function - used to convert 2D array to 1D\n",
    "import numpy as np\n",
    "\n",
    "# Creating a 2D array\n",
    "original_array = np.array([[1, 2, 3], [4, 5, 6]])\n",
    "\n",
    "# Using ravel to flatten the array\n",
    "flattened_array = np.ravel(original_array)\n",
    "\n",
    "print(\"Original array:\")\n",
    "print(original_array)\n",
    "\n",
    "print(\"\\nFlattened array:\")\n",
    "print(flattened_array)"
   ]
  },
  {
   "cell_type": "code",
   "execution_count": null,
   "metadata": {},
   "outputs": [],
   "source": [
    "#Example-2 ravel() with 3D(nd) array\n",
    "import numpy as np\n",
    "\n",
    "# Creating a 3D array\n",
    "three_d_array = np.array([[[1, 2, 3], [4, 5, 6]],\n",
    "                          [[7, 8, 9], [10, 11, 12]],\n",
    "                          [[13, 14, 15], [16, 17, 18]]])\n",
    "\n",
    "# Using ravel to flatten the 3D array\n",
    "flattened_array = np.ravel(three_d_array)\n",
    "\n",
    "print(\"Original 3D array:\")\n",
    "print(three_d_array)\n",
    "\n",
    "print(\"\\nFlattened array:\")\n",
    "print(flattened_array)\n"
   ]
  },
  {
   "cell_type": "code",
   "execution_count": null,
   "metadata": {},
   "outputs": [],
   "source": [
    "#transpose\n",
    "import numpy as np\n",
    "a = np.array([[1,2,3],[4,5,6]])\n",
    "b = np.transpose(a)\n",
    "print('Original','\\n','Shape',a.shape,'\\n',a)\n",
    "print('Expand along columns:','\\n','Shape',b.shape,'\\n',b)"
   ]
  },
  {
   "cell_type": "code",
   "execution_count": 1,
   "metadata": {},
   "outputs": [
    {
     "name": "stdout",
     "output_type": "stream",
     "text": [
      "[1 2 3 4 5 6]\n"
     ]
    }
   ],
   "source": [
    "#Joining arrays - Concatenate()\n",
    "import numpy as np\n",
    "arr1 = np.array([1, 2, 3])\n",
    "arr2 = np.array([4, 5, 6])\n",
    "result = np.concatenate((arr1, arr2), axis=None)\n",
    "print(result)"
   ]
  },
  {
   "cell_type": "code",
   "execution_count": 2,
   "metadata": {},
   "outputs": [
    {
     "name": "stdout",
     "output_type": "stream",
     "text": [
      "[[ 1  2  3]\n",
      " [ 4  5  6]\n",
      " [ 7  8  9]\n",
      " [10 11 12]]\n"
     ]
    }
   ],
   "source": [
    "#axis=0\n",
    "arr1 = np.array([[1, 2, 3],\n",
    "                 [4, 5, 6]])\n",
    "arr2 = np.array([[7, 8, 9],\n",
    "                 [10, 11, 12]])\n",
    "result = np.concatenate((arr1, arr2), axis=0)\n",
    "print(result)"
   ]
  },
  {
   "cell_type": "code",
   "execution_count": 3,
   "metadata": {},
   "outputs": [
    {
     "name": "stdout",
     "output_type": "stream",
     "text": [
      "[[1 2 5 6]\n",
      " [3 4 7 8]]\n"
     ]
    }
   ],
   "source": [
    "#axis=1\n",
    "arr1 = np.array([[1, 2],\n",
    "                 [3, 4]])\n",
    "arr2 = np.array([[5, 6],\n",
    "                 [7, 8]])\n",
    "result = np.concatenate((arr1, arr2), axis=1)\n",
    "print(result)"
   ]
  },
  {
   "cell_type": "code",
   "execution_count": null,
   "metadata": {},
   "outputs": [],
   "source": [
    "#Joining arrays\n",
    "import numpy as np\n",
    "\n",
    "arr1 = np.array(( 1, 2, 3 ))\n",
    "print (\"1st Input array : \\n\", arr1) \n",
    "  \n",
    "arr2 = np.array(( 4, 5, 6 ))\n",
    "print (\"2nd Input array : \\n\", arr2) \n",
    "  \n",
    "#Verticle stacking\n",
    "out_arr = np.vstack((arr1, arr2))  #Normal Stacking\n",
    "print (\"Output verticle stacked array:\\n \", out_arr)\n",
    "\n",
    "#Horizontal stacking(Concatenation)\n",
    "out_arr = np.hstack((arr1, arr2)) \n",
    "print (\"Output horizontal stacked array:\\n \", out_arr)"
   ]
  },
  {
   "cell_type": "code",
   "execution_count": null,
   "metadata": {},
   "outputs": [],
   "source": [
    "arr1 = np.array([[10,20,30],[100,200,300]])\n",
    "print (\"1st Input array : \\n\", arr1) \n",
    "  \n",
    "arr2 = np.array([[40,50,60],[400,500,600]])\n",
    "print (\"2nd Input array : \\n\", arr2) \n",
    "\n",
    "out_arr = np.vstack([arr1, arr2])  \n",
    "print (\"Output horizontal stacked array:\\n \", out_arr)"
   ]
  },
  {
   "cell_type": "code",
   "execution_count": null,
   "metadata": {},
   "outputs": [],
   "source": [
    "#Fancy Indexing, we can pass array of indices to access multiple array values\n",
    "a=np.array([3,78,23,12,56,96,78,25,34,78,14,19])\n",
    "print(a[10])  #Normal indexing\n",
    "\n",
    "ind=np.array([[3,4],[7,10]])\n",
    "print(a[ind]) #Fancy indexing\n"
   ]
  },
  {
   "cell_type": "markdown",
   "metadata": {},
   "source": [
    "Splitting Arrays"
   ]
  },
  {
   "cell_type": "code",
   "execution_count": 4,
   "metadata": {},
   "outputs": [
    {
     "name": "stdout",
     "output_type": "stream",
     "text": [
      "[array([1, 2]), array([3, 4]), array([5, 6])]\n"
     ]
    }
   ],
   "source": [
    "#split(): np.split function is used to split an array into multiple subarrays along a specified axis\n",
    "import numpy as np\n",
    "arr = np.array([1, 2, 3, 4, 5, 6])\n",
    "result = np.split(arr, 3)\n",
    "print(result)"
   ]
  },
  {
   "cell_type": "code",
   "execution_count": 5,
   "metadata": {},
   "outputs": [
    {
     "name": "stdout",
     "output_type": "stream",
     "text": [
      "[array([[1],\n",
      "       [4]]), array([[2],\n",
      "       [5]]), array([[3],\n",
      "       [6]])]\n"
     ]
    }
   ],
   "source": [
    "#hsplit(): The np.hsplit function is used to horizontally split an array into multiple subarrays.\n",
    "import numpy as np\n",
    "\n",
    "arr = np.array([[1, 2, 3],\n",
    "                [4, 5, 6]])\n",
    "\n",
    "result = np.hsplit(arr, 3)\n",
    "print(result)\n",
    "# Output: [array([[1],\n",
    "#                 [4]]), array([[2],\n",
    "#                                 [5]]), array([[3],\n",
    "#                                                 [6]])]\n"
   ]
  },
  {
   "cell_type": "code",
   "execution_count": 6,
   "metadata": {},
   "outputs": [
    {
     "name": "stdout",
     "output_type": "stream",
     "text": [
      "[array([[1, 2, 3]]), array([[4, 5, 6]])]\n"
     ]
    }
   ],
   "source": [
    "#vsplit(): The np.vsplit function is used to vertically split an array into multiple subarrays.\n",
    "import numpy as np\n",
    "\n",
    "arr = np.array([[1, 2, 3],\n",
    "                [4, 5, 6]])\n",
    "\n",
    "result = np.vsplit(arr, 2)\n",
    "print(result)"
   ]
  },
  {
   "cell_type": "code",
   "execution_count": null,
   "metadata": {},
   "outputs": [],
   "source": []
  }
 ],
 "metadata": {
  "kernelspec": {
   "display_name": "Python 3 (ipykernel)",
   "language": "python",
   "name": "python3"
  },
  "language_info": {
   "codemirror_mode": {
    "name": "ipython",
    "version": 3
   },
   "file_extension": ".py",
   "mimetype": "text/x-python",
   "name": "python",
   "nbconvert_exporter": "python",
   "pygments_lexer": "ipython3",
   "version": "3.11.5"
  }
 },
 "nbformat": 4,
 "nbformat_minor": 4
}
