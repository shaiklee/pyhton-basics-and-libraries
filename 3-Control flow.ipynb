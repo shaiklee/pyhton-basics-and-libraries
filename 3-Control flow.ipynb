{
 "cells": [
  {
   "cell_type": "code",
   "execution_count": 5,
   "id": "e32d1bfa-1059-4b38-8661-b12fedc9f3d6",
   "metadata": {},
   "outputs": [
    {
     "name": "stdout",
     "output_type": "stream",
     "text": [
      "Amount =  2500\n",
      "125.0\n",
      "Payable amount =  2375.0\n"
     ]
    }
   ],
   "source": [
    "#CONTROL FLOW IN PYTHON\n",
    "#Conditional statements - if,elif,else\n",
    "amount = 2500\n",
    "print('Amount = ',amount)\n",
    "if amount > 10000:\n",
    "   discount = amount * 20 / 100\n",
    "elif amount > 5000:\n",
    "   discount = amount * 10 / 100\n",
    "elif amount > 1000:\n",
    "   discount = amount * 5 / 100\n",
    "else:\n",
    "   discount=0\n",
    "print(discount)\n",
    "print('Payable amount = ',amount - discount)"
   ]
  },
  {
   "cell_type": "code",
   "execution_count": 1,
   "id": "e4fd123f-9b7c-4104-a6c3-c942fe476a40",
   "metadata": {},
   "outputs": [
    {
     "name": "stdout",
     "output_type": "stream",
     "text": [
      "Hello world\n",
      "Hello world\n",
      "Hello world\n",
      "Hello world\n",
      "Hello world\n",
      "Hello world\n",
      "Hello world\n",
      "Hello world\n",
      "Hello world\n",
      "Hello world\n",
      "Hello world\n",
      "Hello world\n",
      "Hello world\n",
      "Hello world\n",
      "Hello world\n",
      "Hello world\n",
      "Hello world\n",
      "Hello world\n",
      "Hello world\n",
      "Hello world\n"
     ]
    }
   ],
   "source": [
    "#Loops - for, while\n",
    "#for statement\n",
    "for i in range(20):\n",
    "    print(\"Hello world\")"
   ]
  },
  {
   "cell_type": "code",
   "execution_count": 3,
   "id": "8c933f9a-1804-4eef-8788-1bd6d858ac67",
   "metadata": {},
   "outputs": [
    {
     "name": "stdout",
     "output_type": "stream",
     "text": [
      "Hello, World!\n",
      "Hello, World!\n",
      "Hello, World!\n",
      "Hello, World!\n",
      "Hello, World!\n",
      "Hello, World!\n",
      "Hello, World!\n",
      "Hello, World!\n",
      "Hello, World!\n",
      "Hello, World!\n"
     ]
    }
   ],
   "source": [
    "#while\n",
    "sample = 0\n",
    "while sample < 10:\n",
    "    print(\"Hello, World!\")\n",
    "    sample += 1"
   ]
  },
  {
   "cell_type": "code",
   "execution_count": 3,
   "id": "bb235f91-ca04-46d6-8508-f87cc9f57284",
   "metadata": {},
   "outputs": [
    {
     "name": "stdout",
     "output_type": "stream",
     "text": [
      "Hello world\n",
      "Hello world\n",
      "Hello world\n",
      "Hello world\n",
      "Hello world\n",
      "Hello world\n",
      "Hello world\n",
      "Hello world\n",
      "Hello world\n",
      "Hello world\n",
      "Hello world\n"
     ]
    }
   ],
   "source": [
    "#example2 - while loop\n",
    "count = 10\n",
    "while count >=0:\n",
    "    print('Hello world')\n",
    "    count-=1"
   ]
  },
  {
   "cell_type": "code",
   "execution_count": 22,
   "id": "4eb50319-c670-40d6-bfbc-1804630790fc",
   "metadata": {},
   "outputs": [
    {
     "name": "stdout",
     "output_type": "stream",
     "text": [
      "Welcome to the guessing game\n"
     ]
    },
    {
     "name": "stdin",
     "output_type": "stream",
     "text": [
      "Guess the number: 2\n"
     ]
    },
    {
     "name": "stdout",
     "output_type": "stream",
     "text": [
      "Sorry, you have guessed the wrong number try again\n"
     ]
    },
    {
     "name": "stdin",
     "output_type": "stream",
     "text": [
      "Guess the number: 4\n"
     ]
    },
    {
     "name": "stdout",
     "output_type": "stream",
     "text": [
      "Sorry, you have guessed the wrong number try again\n"
     ]
    },
    {
     "name": "stdin",
     "output_type": "stream",
     "text": [
      "Guess the number: 6\n"
     ]
    },
    {
     "name": "stdout",
     "output_type": "stream",
     "text": [
      "Congratulations you've guessed the correct number\n",
      "End of the game, thanks for applying\n"
     ]
    }
   ],
   "source": [
    "#simple guessing game\n",
    "secret_number = 6\n",
    "guess = 0\n",
    "print(\"Welcome to the guessing game\")\n",
    "while guess!=secret_number:\n",
    "    guess=int(input(\"Guess the number:\"))\n",
    "    if guess==secret_number:\n",
    "        print(\"Congratulations you've guessed the correct number\")\n",
    "    else:\n",
    "        print(\"Sorry, you have guessed the wrong number try again\")\n",
    "print(\"End of the game, thanks for applying\")    "
   ]
  },
  {
   "cell_type": "code",
   "execution_count": 6,
   "id": "aa000d3a-3972-407f-82b8-6d0c297dc677",
   "metadata": {},
   "outputs": [
    {
     "name": "stdout",
     "output_type": "stream",
     "text": [
      "2 is prime\n",
      "3 is prime\n",
      "5 is prime\n",
      "7 is prime\n",
      "Good bye!\n"
     ]
    }
   ],
   "source": [
    "#program to find prime number - nested loop\n",
    "i = 2\n",
    "while i < 10:\n",
    "    j = 2\n",
    "    while j <= (i / j):\n",
    "        if not (i % j):\n",
    "            break\n",
    "        j = j + 1\n",
    "    if j > i / j:\n",
    "        print(i, \"is prime\")\n",
    "    i = i + 1\n",
    "print(\"Good bye!\")"
   ]
  },
  {
   "cell_type": "code",
   "execution_count": 3,
   "id": "982135b5-a37b-427b-a588-878d23c79326",
   "metadata": {},
   "outputs": [
    {
     "name": "stdout",
     "output_type": "stream",
     "text": [
      "1\n",
      "2\n",
      "3\n",
      "4\n",
      "5\n",
      "6\n",
      "7\n",
      "8\n",
      "9\n",
      "10\n",
      "11\n",
      "12\n",
      "13\n",
      "14\n",
      "15\n",
      "16\n",
      "17\n",
      "18\n",
      "19\n",
      "20\n",
      "21\n",
      "22\n",
      "23\n",
      "24\n",
      "25\n",
      "26\n",
      "27\n",
      "28\n",
      "29\n",
      "30\n"
     ]
    }
   ],
   "source": [
    "#Loop control statements\n",
    "#break statement - terminates the loop statement and transfers the execution to the statements immediately following the loop\n",
    "for i in range(1,50):\n",
    "    print(i)\n",
    "    if(i==30):\n",
    "        break\n"
   ]
  },
  {
   "cell_type": "code",
   "execution_count": 3,
   "id": "3856590a-0dcc-4e31-923e-f6561b7f4ca9",
   "metadata": {},
   "outputs": [
    {
     "name": "stdout",
     "output_type": "stream",
     "text": [
      "11\n",
      "9\n",
      "89\n"
     ]
    }
   ],
   "source": [
    "#continue statment - causes the loop to skip the remainder of its body and immediately retest its condition prior to reiterating\n",
    "for num in [20,11,9,66,4,89]:\n",
    "    if num%2==0:\n",
    "        continue\n",
    "    print(num) "
   ]
  },
  {
   "cell_type": "code",
   "execution_count": 11,
   "id": "67cd229c-3437-46f2-bc4a-d48ef35ce18f",
   "metadata": {},
   "outputs": [
    {
     "name": "stdout",
     "output_type": "stream",
     "text": [
      "Loop ends here\n"
     ]
    }
   ],
   "source": [
    "#pass - used when a statement is required syntactically but you do not want any command or code to execute\n",
    "for k in range(1,3):\n",
    "    pass\n",
    "print(\"Loop ends here\")"
   ]
  },
  {
   "cell_type": "code",
   "execution_count": 28,
   "id": "53147b08-76ed-4d0e-b758-ee2e036d2f9e",
   "metadata": {},
   "outputs": [
    {
     "name": "stdout",
     "output_type": "stream",
     "text": [
      "Short-named fruit: apple\n",
      "Long-named fruit: orange\n",
      "Short-named fruit: kiwi\n",
      "Long-named fruit: pineapple\n",
      "Short-named fruit: mango\n",
      "Loop finished\n"
     ]
    }
   ],
   "source": [
    "#example-2 for loop\n",
    "fruits=['apple','orange','kiwi','pineapple','mango']\n",
    "for fruit in fruits:\n",
    "    if len(fruit) <6:\n",
    "        print('Short-named fruit:',fruit)\n",
    "        continue\n",
    "    print('Long-named fruit:',fruit)\n",
    "print('Loop finished')"
   ]
  }
 ],
 "metadata": {
  "kernelspec": {
   "display_name": "Python 3 (ipykernel)",
   "language": "python",
   "name": "python3"
  },
  "language_info": {
   "codemirror_mode": {
    "name": "ipython",
    "version": 3
   },
   "file_extension": ".py",
   "mimetype": "text/x-python",
   "name": "python",
   "nbconvert_exporter": "python",
   "pygments_lexer": "ipython3",
   "version": "3.11.5"
  }
 },
 "nbformat": 4,
 "nbformat_minor": 5
}
