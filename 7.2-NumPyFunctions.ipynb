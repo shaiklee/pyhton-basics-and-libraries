{
 "cells": [
  {
   "cell_type": "markdown",
   "id": "567dc994-b5f3-44b9-9605-8fb4eb66bbca",
   "metadata": {},
   "source": [
    "NumPy functions"
   ]
  },
  {
   "cell_type": "code",
   "execution_count": 3,
   "id": "fdb559a9-815d-4040-8116-46f83487b1c5",
   "metadata": {},
   "outputs": [
    {
     "data": {
      "text/plain": [
       "array([1., 2., 3.])"
      ]
     },
     "execution_count": 3,
     "metadata": {},
     "output_type": "execute_result"
    }
   ],
   "source": [
    "#Universal functions : it operates on nd arrays. It performs elememt-wise array operations\n",
    "import numpy as np\n",
    "np.sqrt([1,4,9])"
   ]
  },
  {
   "cell_type": "markdown",
   "id": "ceae9238-a8ca-4e20-bd31-d6b0c2d841c4",
   "metadata": {},
   "source": [
    "Type of universal functions: Math, Trignometric, Bit-twiddling, Comparison, Floating"
   ]
  },
  {
   "cell_type": "code",
   "execution_count": 4,
   "id": "48af51fd-17b1-41bb-98ec-076535c126fe",
   "metadata": {},
   "outputs": [
    {
     "name": "stdout",
     "output_type": "stream",
     "text": [
      "[0 1 2 3 4 0 1]\n"
     ]
    }
   ],
   "source": [
    "#mod\n",
    "import numpy as np\n",
    "x=np.mod(np.arange(7),5)\n",
    "print(x)"
   ]
  },
  {
   "cell_type": "code",
   "execution_count": 5,
   "id": "70eb7332-5299-4335-82c3-01c17c25988b",
   "metadata": {},
   "outputs": [
    {
     "name": "stdout",
     "output_type": "stream",
     "text": [
      "[  0.   1. -inf]\n"
     ]
    },
    {
     "name": "stderr",
     "output_type": "stream",
     "text": [
      "C:\\Users\\Shilpa R\\AppData\\Local\\Temp\\ipykernel_1396\\3128514517.py:3: RuntimeWarning: divide by zero encountered in log\n",
      "  x=np.log([1,np.e,0]) #the natural logarithm of np.e (where np.e is a constant in NumPy representing Euler's number), the result will be 1.\n"
     ]
    }
   ],
   "source": [
    "#log\n",
    "import numpy as np\n",
    "x=np.log([1,np.e,0]) #the natural logarithm of np.e (where np.e is a constant in NumPy representing Euler's number), the result will be 1.\n",
    "print(x)"
   ]
  },
  {
   "cell_type": "code",
   "execution_count": 6,
   "id": "0fe2abec-6603-4242-8b23-f66aa76846ca",
   "metadata": {},
   "outputs": [
    {
     "name": "stdout",
     "output_type": "stream",
     "text": [
      "8\n"
     ]
    }
   ],
   "source": [
    "#bitwise and\n",
    "import numpy as np\n",
    "x=np.bitwise_and(9,10)\n",
    "print(x)"
   ]
  },
  {
   "cell_type": "code",
   "execution_count": 7,
   "id": "77b83e83-e91a-4f81-92e2-d5c7c4cf66d8",
   "metadata": {},
   "outputs": [
    {
     "name": "stdout",
     "output_type": "stream",
     "text": [
      "7.211102550927978\n"
     ]
    }
   ],
   "source": [
    "#hypot\n",
    "import numpy as np\n",
    "Base=6\n",
    "Height=4\n",
    "Hypotenuse=np.hypot(Base,Height) #=  36+16=52 sqrt(52)\n",
    "print(Hypotenuse)"
   ]
  },
  {
   "cell_type": "code",
   "execution_count": 8,
   "id": "9149fdc6-105f-42b2-8673-1a87b0a8a6b7",
   "metadata": {},
   "outputs": [
    {
     "name": "stdout",
     "output_type": "stream",
     "text": [
      "[ True False  True]\n"
     ]
    },
    {
     "name": "stderr",
     "output_type": "stream",
     "text": [
      "C:\\Users\\Shilpa R\\AppData\\Local\\Temp\\ipykernel_1396\\1366652403.py:4: RuntimeWarning: divide by zero encountered in log\n",
      "  x=np.log([(-1),1.,np.log(0)])#The natural logarithm of -1 is undefined, so it will result in a complex number.Log of 1 is zero and 0 is undefined\n",
      "C:\\Users\\Shilpa R\\AppData\\Local\\Temp\\ipykernel_1396\\1366652403.py:4: RuntimeWarning: invalid value encountered in log\n",
      "  x=np.log([(-1),1.,np.log(0)])#The natural logarithm of -1 is undefined, so it will result in a complex number.Log of 1 is zero and 0 is undefined\n"
     ]
    }
   ],
   "source": [
    "#nan :The np.isnan() function checks for NaN(Not a Number)values, \n",
    "#in this case, it will return an array of booleans indicating whether each corresponding element in the input array x is NaN or not.\n",
    "import numpy as np\n",
    "x=np.log([(-1),1.,np.log(0)])#The natural logarithm of -1 is undefined, so it will result in a complex number.Log of 1 is zero and 0 is undefined\n",
    "#LOG(-1)= undefined - not a number\n",
    "#log(1) = 0- number\n",
    "#log(0) = undefined - not a number\n",
    "y=np.isnan(x)\n",
    "print(y)"
   ]
  },
  {
   "cell_type": "markdown",
   "id": "df04f826-eb21-44cd-9906-19c93764d3d5",
   "metadata": {},
   "source": [
    "Aggregate functions"
   ]
  },
  {
   "cell_type": "code",
   "execution_count": 9,
   "id": "4fdb0089-251b-439e-be3d-885dc905419b",
   "metadata": {},
   "outputs": [
    {
     "name": "stdout",
     "output_type": "stream",
     "text": [
      "15\n",
      "1\n",
      "5\n",
      "3.0\n",
      "1.4142135623730951\n"
     ]
    }
   ],
   "source": [
    "import numpy as np\n",
    "a=np.array([1,2,3,4,5])\n",
    "print(a.sum())\n",
    "print(a.min())\n",
    "print(a.max())\n",
    "print(a.mean())\n",
    "print(a.std())"
   ]
  },
  {
   "cell_type": "code",
   "execution_count": 10,
   "id": "aab7a3be-f9f8-47ab-950b-c88ef2943a1f",
   "metadata": {},
   "outputs": [
    {
     "data": {
      "text/plain": [
       "False"
      ]
     },
     "execution_count": 10,
     "metadata": {},
     "output_type": "execute_result"
    }
   ],
   "source": [
    "#In NumPy, the numpy.all() function returns True if all elements of the input array evaluate to True, and it returns False otherwise.\n",
    "np.all([[True,False],[True,True]])"
   ]
  },
  {
   "cell_type": "code",
   "execution_count": 12,
   "id": "f640d82b-5ea8-4082-b8bc-81d1453608d9",
   "metadata": {},
   "outputs": [
    {
     "name": "stdout",
     "output_type": "stream",
     "text": [
      "Example 2: True\n"
     ]
    }
   ],
   "source": [
    "#example-2\n",
    "arr = np.array([1, 2, 3, 4])\n",
    "result = np.all(arr > 0)\n",
    "print(\"Example 2:\", result)"
   ]
  },
  {
   "cell_type": "code",
   "execution_count": 15,
   "id": "e244048d-6e94-44b1-8a2c-aed9c869ba19",
   "metadata": {},
   "outputs": [
    {
     "data": {
      "text/plain": [
       "array([ True, False])"
      ]
     },
     "execution_count": 15,
     "metadata": {},
     "output_type": "execute_result"
    }
   ],
   "source": [
    "np.all([[True,False],[True,True]],axis=0)"
   ]
  },
  {
   "cell_type": "code",
   "execution_count": 23,
   "id": "51783e54-c556-46b4-8577-006ad02521f6",
   "metadata": {},
   "outputs": [
    {
     "name": "stdout",
     "output_type": "stream",
     "text": [
      "Example 1: False\n",
      "Example 2: True\n",
      "Example 3: True\n",
      "Example 4: False\n"
     ]
    }
   ],
   "source": [
    "#any: In NumPy, the numpy.any() function is used to check if any element in the input array evaluates to True. \n",
    "#It returns True if at least one element is True, and False otherwise.\n",
    "import numpy as np\n",
    "\n",
    "# Example 1\n",
    "arr1 = np.array([False, False, False])\n",
    "result1 = np.any(arr1)\n",
    "print(\"Example 1:\", result1)  \n",
    "\n",
    "# Example 2\n",
    "arr2 = np.array([True, False, False])\n",
    "result2 = np.any(arr2)\n",
    "print(\"Example 2:\", result2)\n",
    "\n",
    "arr3 = np.array([0, 0, 0, 4])\n",
    "result3 = np.any(arr3)\n",
    "print(\"Example 3:\", result3) \n",
    "\n",
    "# Example 4\n",
    "arr4 = np.array([0, 0, 0])\n",
    "result4 = np.any(arr4)\n",
    "print(\"Example 4:\", result4) "
   ]
  },
  {
   "cell_type": "code",
   "execution_count": null,
   "id": "cbd499c2-2c24-415e-9bd4-7162bf8c1f3c",
   "metadata": {},
   "outputs": [],
   "source": []
  }
 ],
 "metadata": {
  "kernelspec": {
   "display_name": "Python 3 (ipykernel)",
   "language": "python",
   "name": "python3"
  },
  "language_info": {
   "codemirror_mode": {
    "name": "ipython",
    "version": 3
   },
   "file_extension": ".py",
   "mimetype": "text/x-python",
   "name": "python",
   "nbconvert_exporter": "python",
   "pygments_lexer": "ipython3",
   "version": "3.11.5"
  }
 },
 "nbformat": 4,
 "nbformat_minor": 5
}
