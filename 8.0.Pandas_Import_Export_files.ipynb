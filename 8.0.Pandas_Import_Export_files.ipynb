{
 "cells": [
  {
   "cell_type": "code",
   "execution_count": null,
   "id": "6fb8f105-e226-408c-be06-669c7777e1bc",
   "metadata": {},
   "outputs": [],
   "source": [
    "import pandas as pd\n",
    "print(pd.__version__)"
   ]
  },
  {
   "cell_type": "code",
   "execution_count": null,
   "id": "0593b9ab-76ba-4c1d-ab90-ed209869d836",
   "metadata": {},
   "outputs": [],
   "source": [
    "x=pd.read_csv('marks.csv')"
   ]
  },
  {
   "cell_type": "code",
   "execution_count": null,
   "id": "223673aa-80e5-467a-bf0e-2a632a3f4fbc",
   "metadata": {},
   "outputs": [],
   "source": [
    "pd.read_csv('marks_without_headers.csv')"
   ]
  },
  {
   "cell_type": "code",
   "execution_count": null,
   "id": "ac339024-a2e0-4a6c-84e7-cdabaaf01c29",
   "metadata": {},
   "outputs": [],
   "source": [
    "pd.read_csv('marks_without_headers.csv',header=None)"
   ]
  },
  {
   "cell_type": "code",
   "execution_count": null,
   "id": "0650a4f8-9f1f-46a7-a503-c9a96f3862e4",
   "metadata": {},
   "outputs": [],
   "source": [
    "pd.read_csv('marks.csv',index_col=['Sr. No.'])"
   ]
  },
  {
   "cell_type": "code",
   "execution_count": null,
   "id": "475f7cc1-da98-4d64-bd75-23e25ef1eee4",
   "metadata": {},
   "outputs": [],
   "source": [
    "data = {\n",
    "    'Name': ['Alice', 'Bob', 'Charlie', 'David'],\n",
    "    'Age': [25, 30, 35, 28],\n",
    "    'City': ['New York', 'San Francisco', 'Los Angeles', 'Chicago'],\n",
    "    'Salary': [60000, 75000, 90000, 65000]\n",
    "}\n",
    "df = pd.DataFrame(data)\n",
    "print(df)"
   ]
  },
  {
   "cell_type": "code",
   "execution_count": null,
   "id": "50cd171f-4be8-40db-ac5a-7d2a0f8acc9d",
   "metadata": {},
   "outputs": [],
   "source": [
    "#convert to other file formats"
   ]
  },
  {
   "cell_type": "code",
   "execution_count": null,
   "id": "cf93bd77-b89e-4bd5-bb33-b5dce5763a2d",
   "metadata": {},
   "outputs": [],
   "source": [
    "df.to_json('Jsonfile.js')"
   ]
  },
  {
   "cell_type": "code",
   "execution_count": null,
   "id": "fe36ab3a-4a44-4dcd-91da-e19c50668e2a",
   "metadata": {},
   "outputs": [],
   "source": [
    "df.to_excel('Excelfile.xlsx')"
   ]
  },
  {
   "cell_type": "code",
   "execution_count": null,
   "id": "57784d2e-3102-49c6-86ba-a89852cc4f10",
   "metadata": {},
   "outputs": [],
   "source": []
  }
 ],
 "metadata": {
  "kernelspec": {
   "display_name": "Python 3 (ipykernel)",
   "language": "python",
   "name": "python3"
  },
  "language_info": {
   "codemirror_mode": {
    "name": "ipython",
    "version": 3
   },
   "file_extension": ".py",
   "mimetype": "text/x-python",
   "name": "python",
   "nbconvert_exporter": "python",
   "pygments_lexer": "ipython3",
   "version": "3.11.5"
  }
 },
 "nbformat": 4,
 "nbformat_minor": 5
}
