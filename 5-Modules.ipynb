{
 "cells": [
  {
   "cell_type": "code",
   "execution_count": 13,
   "id": "be72bbdd-76cd-43db-82df-380769a9bce8",
   "metadata": {},
   "outputs": [
    {
     "name": "stdout",
     "output_type": "stream",
     "text": [
      "['__doc__', '__loader__', '__name__', '__package__', '__spec__', 'acos', 'acosh', 'asin', 'asinh', 'atan', 'atan2', 'atanh', 'cbrt', 'ceil', 'comb', 'copysign', 'cos', 'cosh', 'degrees', 'dist', 'e', 'erf', 'erfc', 'exp', 'exp2', 'expm1', 'fabs', 'factorial', 'floor', 'fmod', 'frexp', 'fsum', 'gamma', 'gcd', 'hypot', 'inf', 'isclose', 'isfinite', 'isinf', 'isnan', 'isqrt', 'lcm', 'ldexp', 'lgamma', 'log', 'log10', 'log1p', 'log2', 'modf', 'nan', 'nextafter', 'perm', 'pi', 'pow', 'prod', 'radians', 'remainder', 'sin', 'sinh', 'sqrt', 'tan', 'tanh', 'tau', 'trunc', 'ulp']\n"
     ]
    }
   ],
   "source": [
    "import math\n",
    "print(dir(math))"
   ]
  },
  {
   "cell_type": "code",
   "execution_count": 14,
   "id": "cfaa925e-189a-4d45-9070-f0038fd5de5e",
   "metadata": {},
   "outputs": [
    {
     "name": "stdout",
     "output_type": "stream",
     "text": [
      "['C:\\\\ProgramData\\\\miniconda3\\\\Lib\\\\site-packages\\\\ipykernel_launcher.py', '-f', 'C:\\\\Users\\\\Shilpa R\\\\AppData\\\\Roaming\\\\jupyter\\\\runtime\\\\kernel-000febb1-8c27-4238-a112-c326f9560f3c.json']\n"
     ]
    }
   ],
   "source": [
    "import sys\n",
    "print(sys.argv)"
   ]
  },
  {
   "cell_type": "code",
   "execution_count": 15,
   "id": "fac60deb-864f-4096-ba27-0cc22c4e61db",
   "metadata": {},
   "outputs": [
    {
     "name": "stdout",
     "output_type": "stream",
     "text": [
      "False\n"
     ]
    }
   ],
   "source": [
    "print(not sys)"
   ]
  },
  {
   "cell_type": "code",
   "execution_count": 16,
   "id": "c1e6fa84-163a-4412-87a2-1652d3555c55",
   "metadata": {},
   "outputs": [
    {
     "name": "stdout",
     "output_type": "stream",
     "text": [
      "3.11\n"
     ]
    }
   ],
   "source": [
    "print(sys.winver)"
   ]
  },
  {
   "cell_type": "code",
   "execution_count": 17,
   "id": "58cb2275-00ed-49bf-a8e6-f7cd311ebdf1",
   "metadata": {},
   "outputs": [
    {
     "name": "stdout",
     "output_type": "stream",
     "text": [
      "sys.flags(debug=0, inspect=0, interactive=0, optimize=0, dont_write_bytecode=0, no_user_site=0, no_site=0, ignore_environment=0, verbose=0, bytes_warning=0, quiet=0, hash_randomization=1, isolated=0, dev_mode=False, utf8_mode=0, warn_default_encoding=0, safe_path=False, int_max_str_digits=-1)\n"
     ]
    }
   ],
   "source": [
    "print(sys.flags)"
   ]
  },
  {
   "cell_type": "code",
   "execution_count": 18,
   "id": "8fac2c43-335d-4ca8-85bc-d3bfc8958d18",
   "metadata": {},
   "outputs": [
    {
     "name": "stdout",
     "output_type": "stream",
     "text": [
      "C:\\ProgramData\\miniconda3\n"
     ]
    }
   ],
   "source": [
    "print(sys.prefix)"
   ]
  },
  {
   "cell_type": "code",
   "execution_count": 19,
   "id": "fc4c4838-c978-4bcf-b776-0ec2a2ada64e",
   "metadata": {},
   "outputs": [
    {
     "data": {
      "text/plain": [
       "'3.11.5 | packaged by Anaconda, Inc. | (main, Sep 11 2023, 13:26:23) [MSC v.1916 64 bit (AMD64)]'"
      ]
     },
     "execution_count": 19,
     "metadata": {},
     "output_type": "execute_result"
    }
   ],
   "source": [
    "sys.version"
   ]
  },
  {
   "cell_type": "code",
   "execution_count": 20,
   "id": "8085bad6-53e9-434a-ac6e-445b220c2c48",
   "metadata": {},
   "outputs": [],
   "source": [
    "import os"
   ]
  },
  {
   "cell_type": "code",
   "execution_count": 21,
   "id": "bc67b403-5c29-4c23-881c-127ac5acb53c",
   "metadata": {},
   "outputs": [
    {
     "name": "stdout",
     "output_type": "stream",
     "text": [
      "C:\\Users\\Shilpa R\\Edureka-DSML\n"
     ]
    }
   ],
   "source": [
    "print(os.getcwd())"
   ]
  },
  {
   "cell_type": "code",
   "execution_count": 22,
   "id": "c36d9ba8-7e10-4b99-a719-951ccc191d8a",
   "metadata": {},
   "outputs": [
    {
     "name": "stdout",
     "output_type": "stream",
     "text": [
      "nt\n"
     ]
    }
   ],
   "source": [
    "print(os.name)"
   ]
  },
  {
   "cell_type": "code",
   "execution_count": 23,
   "id": "3d93b34c-a383-4d7c-8e61-de991385fb10",
   "metadata": {},
   "outputs": [
    {
     "name": "stdout",
     "output_type": "stream",
     "text": [
      "environ({'ALLUSERSPROFILE': 'C:\\\\ProgramData', 'APPDATA': 'C:\\\\Users\\\\Shilpa R\\\\AppData\\\\Roaming', 'COMMONPROGRAMFILES': 'C:\\\\Program Files\\\\Common Files', 'COMMONPROGRAMFILES(X86)': 'C:\\\\Program Files (x86)\\\\Common Files', 'COMMONPROGRAMW6432': 'C:\\\\Program Files\\\\Common Files', 'COMPUTERNAME': 'DESKTOP-VCO2F85', 'COMSPEC': 'C:\\\\Windows\\\\system32\\\\cmd.exe', 'DRIVERDATA': 'C:\\\\Windows\\\\System32\\\\Drivers\\\\DriverData', 'FPS_BROWSER_APP_PROFILE_STRING': 'Internet Explorer', 'FPS_BROWSER_USER_PROFILE_STRING': 'Default', 'HOMEDRIVE': 'C:', 'HOMEPATH': '\\\\Users\\\\Shilpa R', 'LOCALAPPDATA': 'C:\\\\Users\\\\Shilpa R\\\\AppData\\\\Local', 'LOGONSERVER': '\\\\\\\\DESKTOP-VCO2F85', 'NUMBER_OF_PROCESSORS': '4', 'ONEDRIVE': 'C:\\\\Users\\\\Shilpa R\\\\OneDrive', 'OS': 'Windows_NT', 'PATH': 'C:\\\\ProgramData\\\\miniconda3;C:\\\\ProgramData\\\\miniconda3\\\\Library\\\\mingw-w64\\\\bin;C:\\\\ProgramData\\\\miniconda3\\\\Library\\\\usr\\\\bin;C:\\\\ProgramData\\\\miniconda3\\\\Library\\\\bin;C:\\\\ProgramData\\\\miniconda3\\\\Scripts;C:\\\\Windows\\\\system32;C:\\\\Windows;C:\\\\Windows\\\\System32\\\\Wbem;C:\\\\Windows\\\\System32\\\\WindowsPowerShell\\\\v1.0\\\\;C:\\\\Windows\\\\System32\\\\OpenSSH\\\\;C:\\\\Users\\\\Shilpa R\\\\AppData\\\\Local\\\\Programs\\\\Python\\\\Launcher\\\\;C:\\\\Users\\\\Shilpa R\\\\AppData\\\\Local\\\\Microsoft\\\\WindowsApps;', 'PATHEXT': '.COM;.EXE;.BAT;.CMD;.VBS;.VBE;.JS;.JSE;.WSF;.WSH;.MSC', 'PROCESSOR_ARCHITECTURE': 'AMD64', 'PROCESSOR_IDENTIFIER': 'Intel64 Family 6 Model 69 Stepping 1, GenuineIntel', 'PROCESSOR_LEVEL': '6', 'PROCESSOR_REVISION': '4501', 'PROGRAMDATA': 'C:\\\\ProgramData', 'PROGRAMFILES': 'C:\\\\Program Files', 'PROGRAMFILES(X86)': 'C:\\\\Program Files (x86)', 'PROGRAMW6432': 'C:\\\\Program Files', 'PSMODULEPATH': 'C:\\\\Program Files\\\\WindowsPowerShell\\\\Modules;C:\\\\Windows\\\\system32\\\\WindowsPowerShell\\\\v1.0\\\\Modules', 'PUBLIC': 'C:\\\\Users\\\\Public', 'SESSIONNAME': 'Console', 'SYSTEMDRIVE': 'C:', 'SYSTEMROOT': 'C:\\\\Windows', 'TEMP': 'C:\\\\Users\\\\SHILPA~1\\\\AppData\\\\Local\\\\Temp', 'TMP': 'C:\\\\Users\\\\SHILPA~1\\\\AppData\\\\Local\\\\Temp', 'USERDOMAIN': 'DESKTOP-VCO2F85', 'USERDOMAIN_ROAMINGPROFILE': 'DESKTOP-VCO2F85', 'USERNAME': 'Shilpa R', 'USERPROFILE': 'C:\\\\Users\\\\Shilpa R', 'WINDIR': 'C:\\\\Windows', 'CONDA_PREFIX': 'C:\\\\ProgramData\\\\miniconda3', 'PYDEVD_USE_FRAME_EVAL': 'NO', 'JPY_SESSION_NAME': 'C:\\\\Users\\\\Shilpa R\\\\Edureka-DSML\\\\Untitled.ipynb', 'JPY_INTERRUPT_EVENT': '2632', 'IPY_INTERRUPT_EVENT': '2632', 'JPY_PARENT_PID': '2680', 'TERM': 'xterm-color', 'CLICOLOR': '1', 'FORCE_COLOR': '1', 'CLICOLOR_FORCE': '1', 'PAGER': 'cat', 'GIT_PAGER': 'cat', 'MPLBACKEND': 'module://matplotlib_inline.backend_inline'})\n"
     ]
    }
   ],
   "source": [
    "print(os.environ)"
   ]
  },
  {
   "cell_type": "code",
   "execution_count": 24,
   "id": "5f78c547-2a05-4406-bfe9-59580e191ef8",
   "metadata": {},
   "outputs": [
    {
     "name": "stdout",
     "output_type": "stream",
     "text": [
      "Shilpa R\n"
     ]
    }
   ],
   "source": [
    "print(os.getlogin())"
   ]
  },
  {
   "cell_type": "code",
   "execution_count": 25,
   "id": "74777104-ad16-4f98-89a2-be392866ead6",
   "metadata": {},
   "outputs": [
    {
     "name": "stdout",
     "output_type": "stream",
     "text": [
      "6904\n"
     ]
    }
   ],
   "source": [
    "print(os.getppid())"
   ]
  },
  {
   "cell_type": "code",
   "execution_count": 1,
   "id": "397b1f63-ea07-4eac-98cd-7265c6af6a68",
   "metadata": {},
   "outputs": [],
   "source": [
    "#Math module\n",
    "import math"
   ]
  },
  {
   "cell_type": "code",
   "execution_count": 2,
   "id": "0652605d-e025-4b2f-a90e-cb53688306cf",
   "metadata": {},
   "outputs": [
    {
     "name": "stdout",
     "output_type": "stream",
     "text": [
      "11\n"
     ]
    }
   ],
   "source": [
    "print(math.ceil(10.098))"
   ]
  },
  {
   "cell_type": "code",
   "execution_count": 3,
   "id": "a0d061c7-dd90-406a-8d09-93455a2849a0",
   "metadata": {},
   "outputs": [
    {
     "name": "stdout",
     "output_type": "stream",
     "text": [
      "-10.0\n"
     ]
    }
   ],
   "source": [
    "print(math.copysign(10,-1))"
   ]
  },
  {
   "cell_type": "code",
   "execution_count": 4,
   "id": "a9e2f740-3cac-4ad4-9080-c66b8ea7b903",
   "metadata": {},
   "outputs": [
    {
     "name": "stdout",
     "output_type": "stream",
     "text": [
      "19.7\n"
     ]
    }
   ],
   "source": [
    "print(math.fabs(-19.7))"
   ]
  },
  {
   "cell_type": "code",
   "execution_count": 6,
   "id": "0baaec87-a027-4797-a80b-be4d0576d33b",
   "metadata": {},
   "outputs": [],
   "source": [
    "#datetime module\n",
    "import datetime"
   ]
  },
  {
   "cell_type": "code",
   "execution_count": 7,
   "id": "e74e4b90-a4bc-4560-a793-07f8d9258812",
   "metadata": {},
   "outputs": [
    {
     "name": "stdout",
     "output_type": "stream",
     "text": [
      "2024-02-13 10:20:39.994392\n"
     ]
    }
   ],
   "source": [
    "print(datetime.datetime.today())"
   ]
  },
  {
   "cell_type": "code",
   "execution_count": 9,
   "id": "d24ed288-ad5f-41d2-afc1-d94338b3cfb4",
   "metadata": {},
   "outputs": [
    {
     "name": "stdout",
     "output_type": "stream",
     "text": [
      "9999\n"
     ]
    }
   ],
   "source": [
    "print(datetime.MAXYEAR)"
   ]
  },
  {
   "cell_type": "code",
   "execution_count": 10,
   "id": "3765c9dc-5439-42ca-a909-1cd7bb88da77",
   "metadata": {},
   "outputs": [
    {
     "name": "stdout",
     "output_type": "stream",
     "text": [
      "1\n"
     ]
    }
   ],
   "source": [
    "print(datetime.MINYEAR)"
   ]
  },
  {
   "cell_type": "code",
   "execution_count": 11,
   "id": "fe575b43-5c37-4eb2-8745-059e8ed0b3d7",
   "metadata": {},
   "outputs": [
    {
     "name": "stdout",
     "output_type": "stream",
     "text": [
      "<class 'datetime.time'>\n"
     ]
    }
   ],
   "source": [
    "print(datetime.time)"
   ]
  },
  {
   "cell_type": "code",
   "execution_count": 12,
   "id": "6febe809-36d0-496b-852e-bfac5e8a24aa",
   "metadata": {},
   "outputs": [
    {
     "name": "stdout",
     "output_type": "stream",
     "text": [
      "<class 'datetime.timezone'>\n"
     ]
    }
   ],
   "source": [
    "print(datetime.timezone)"
   ]
  },
  {
   "cell_type": "code",
   "execution_count": 8,
   "id": "ef63eecb-f4f0-4ffb-87c8-33b76ba4eac2",
   "metadata": {},
   "outputs": [
    {
     "name": "stdout",
     "output_type": "stream",
     "text": [
      "9895 days, 12:10:43.638842\n"
     ]
    }
   ],
   "source": [
    "now=datetime.datetime.today()  #current date in YYYY-MM-DD HH:MM:SS\n",
    "#method takes arguement as : datetime(year,month,day[,hour [,minute, [, second [, microsecond [, tzinfo]]]]])\n",
    "other=datetime.datetime(1997,1,9,22,10)\n",
    "print(now-other)\n",
    "#returns value of type timedelta which is difference between two datetime types.\n"
   ]
  },
  {
   "cell_type": "code",
   "execution_count": 3,
   "id": "4888faf0-9f22-4733-8644-825680a89cc2",
   "metadata": {},
   "outputs": [],
   "source": [
    "#random Module\n",
    "import random"
   ]
  },
  {
   "cell_type": "code",
   "execution_count": 4,
   "id": "1f933377-eaef-49a5-83e3-3f09983ec24a",
   "metadata": {},
   "outputs": [
    {
     "name": "stdout",
     "output_type": "stream",
     "text": [
      "68\n"
     ]
    }
   ],
   "source": [
    "num=random.randrange(100) #generates a random integer within given range\n",
    "print(num)"
   ]
  },
  {
   "cell_type": "code",
   "execution_count": 20,
   "id": "96844fec-d6f9-43f6-9b01-2c1f564abd2a",
   "metadata": {},
   "outputs": [
    {
     "name": "stdout",
     "output_type": "stream",
     "text": [
      "60\n"
     ]
    }
   ],
   "source": [
    "ran=random.randrange(0,100,30) #returns a randomly selected element from range\n",
    "print(ran)"
   ]
  },
  {
   "cell_type": "code",
   "execution_count": 21,
   "id": "7e401738-c9fa-4b7e-a3ff-b23b58a20626",
   "metadata": {},
   "outputs": [
    {
     "name": "stdout",
     "output_type": "stream",
     "text": [
      "26\n"
     ]
    }
   ],
   "source": [
    "inte=random.randint(0,30) #returns a random integer N such that a<=N<=b\n",
    "print(inte)"
   ]
  },
  {
   "cell_type": "code",
   "execution_count": 22,
   "id": "efa6c512-60ee-4bee-a2ad-e72ebe20e856",
   "metadata": {},
   "outputs": [
    {
     "name": "stdout",
     "output_type": "stream",
     "text": [
      "<bound method Random.getstate of <random.Random object at 0x000001C166D374F0>>\n"
     ]
    }
   ],
   "source": [
    "print(random.getstate) #returns an object which captures the current internal state of the generator"
   ]
  },
  {
   "cell_type": "code",
   "execution_count": 23,
   "id": "c175b59f-2d4c-49a3-9ffb-0aae7fe8f883",
   "metadata": {},
   "outputs": [
    {
     "name": "stdout",
     "output_type": "stream",
     "text": [
      "4.358020433512328\n"
     ]
    }
   ],
   "source": [
    "print(random.uniform(6,2)) #return a random floating point number N such that a<=N<=b for a<=b and b<=N<=a  for b<a"
   ]
  },
  {
   "cell_type": "markdown",
   "id": "313444ff-a73a-4418-80ff-4be5d512dae2",
   "metadata": {},
   "source": [
    "Classes and Objects"
   ]
  },
  {
   "cell_type": "code",
   "execution_count": 24,
   "id": "d8c6e11c-65fd-494c-a655-bc216e88e871",
   "metadata": {},
   "outputs": [
    {
     "name": "stdout",
     "output_type": "stream",
     "text": [
      "<__main__.number object at 0x000001C16C161C50>\n"
     ]
    }
   ],
   "source": [
    "class number():\n",
    "    pass\n",
    "x=number()\n",
    "print(x)"
   ]
  },
  {
   "cell_type": "code",
   "execution_count": 26,
   "id": "4b9683ff-0c01-4ba4-a68b-3484186f1763",
   "metadata": {},
   "outputs": [
    {
     "name": "stdout",
     "output_type": "stream",
     "text": [
      "<__main__.Employee object at 0x000001C16C088210>\n",
      "<__main__.Employee object at 0x000001C16C08AAD0>\n"
     ]
    }
   ],
   "source": [
    "#example-2\n",
    "class Employee():\n",
    "    pass\n",
    "#object\n",
    "employee1= Employee()\n",
    "employee2=Employee()\n",
    "print(employee1)\n",
    "print(employee2)"
   ]
  },
  {
   "cell_type": "code",
   "execution_count": 27,
   "id": "7478fd1c-0a54-4479-8c90-73afb26ac844",
   "metadata": {},
   "outputs": [
    {
     "name": "stdout",
     "output_type": "stream",
     "text": [
      "Matt\n",
      "25000\n",
      "Anjali\n",
      "35000\n"
     ]
    }
   ],
   "source": [
    "employee1=Employee()\n",
    "employee1.name=\"Matt\"\n",
    "employee1.income=25000\n",
    "employee1.performance=\"good\"\n",
    "print(employee1.name)\n",
    "print(employee1.income)\n",
    "#values for employee2\n",
    "employee2.name=\"Anjali\"\n",
    "employee2.income=35000\n",
    "print(employee2.name)\n",
    "print(employee2.income)"
   ]
  }
 ],
 "metadata": {
  "kernelspec": {
   "display_name": "Python 3 (ipykernel)",
   "language": "python",
   "name": "python3"
  },
  "language_info": {
   "codemirror_mode": {
    "name": "ipython",
    "version": 3
   },
   "file_extension": ".py",
   "mimetype": "text/x-python",
   "name": "python",
   "nbconvert_exporter": "python",
   "pygments_lexer": "ipython3",
   "version": "3.11.5"
  }
 },
 "nbformat": 4,
 "nbformat_minor": 5
}
