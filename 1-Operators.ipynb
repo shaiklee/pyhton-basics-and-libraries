{
 "cells": [
  {
   "cell_type": "code",
   "execution_count": 22,
   "id": "3a152920-df69-45a5-97a3-abca97210fde",
   "metadata": {},
   "outputs": [],
   "source": [
    "#print hello world\n",
    "print('hello world')"
   ]
  },
  {
   "cell_type": "code",
   "execution_count": 1,
   "id": "8ba2d7d9-44c1-49e5-ab5d-f08075edbc7c",
   "metadata": {},
   "outputs": [],
   "source": [
    "#program to add numbers"
   ]
  },
  {
   "cell_type": "code",
   "execution_count": 19,
   "id": "0a518d4d-5878-4a53-83f0-8eaa2db63845",
   "metadata": {},
   "outputs": [
    {
     "name": "stdout",
     "output_type": "stream",
     "text": [
      "Welcome to Datascience class\n"
     ]
    }
   ],
   "source": [
    "#find the errors in the program\n",
    "string1=\"Hello!Everyone\"\n",
    "String2= \"Welcome to Datascience class\"\n",
    "my_string= \"Python is a programming language\"\n",
    "awaits = \"R is a programming language\"\n",
    "print(String2)"
   ]
  },
  {
   "cell_type": "code",
   "execution_count": 12,
   "id": "ba58d272-bcd3-440e-b492-b9c4d88a1ec1",
   "metadata": {},
   "outputs": [
    {
     "name": "stdout",
     "output_type": "stream",
     "text": [
      "10 20\n",
      "20 10\n"
     ]
    }
   ],
   "source": [
    "#swapping two variables\n",
    "a=10\n",
    "b=20\n",
    "print(a,b)\n",
    "a=a+b #30\n",
    "b=a-b #10\n",
    "a=a-b #20\n",
    "print(a,b)"
   ]
  },
  {
   "cell_type": "code",
   "execution_count": 20,
   "id": "2dea75bc-33f9-4d93-8260-9f32e12ce094",
   "metadata": {},
   "outputs": [
    {
     "name": "stdout",
     "output_type": "stream",
     "text": [
      "Enter number a 5\n",
      "Enter number b 3\n"
     ]
    },
    {
     "name": "stdout",
     "output_type": "stream",
     "text": [
      "The sum is 8\n",
      "The difference is 2\n",
      "The product is 15\n",
      "The modulus is 2\n",
      "The division is 1.6666666666666667\n",
      "The division(floor) is 1\n",
      "The power is 125\n"
     ]
    }
   ],
   "source": [
    "#operators in python - ARITHMETIC\n",
    "a= int(input(\"Enter number a\"))\n",
    "b= int(input(\"Enter number b\"))\n",
    "sum = a+b #addition\n",
    "diff= a-b #subtraction\n",
    "prod=a*b  #multiplication\n",
    "mod=a%b   #modulus\n",
    "div=a/b   #division (float)\n",
    "div2= a//b #division (floor)\n",
    "pow= a**b #power\n",
    "print(\"The sum is\", sum)\n",
    "print(\"The difference is\", diff)\n",
    "print(\"The product is\", prod)\n",
    "print(\"The modulus is\", mod)\n",
    "print(\"The division is\", div)\n",
    "print(\"The division(floor) is\", div2)\n",
    "print(\"The power is\", pow)"
   ]
  },
  {
   "cell_type": "code",
   "execution_count": 14,
   "id": "f2a8f190-a1eb-4082-af9b-4793efde8e55",
   "metadata": {},
   "outputs": [
    {
     "name": "stdout",
     "output_type": "stream",
     "text": [
      "2.5 2\n"
     ]
    }
   ],
   "source": [
    "#example for division float and floor\n",
    "a= 5\n",
    "b=2\n",
    "div1= 5/2\n",
    "div2= 5//2\n",
    "print(div1,div2)"
   ]
  },
  {
   "cell_type": "code",
   "execution_count": 17,
   "id": "0317f2b0-0187-45a8-9755-8b63ca8e1eb8",
   "metadata": {},
   "outputs": [
    {
     "name": "stdout",
     "output_type": "stream",
     "text": [
      "True\n",
      "False\n",
      "False\n",
      "True\n",
      "True\n",
      "False\n"
     ]
    }
   ],
   "source": [
    "# Comparison operators\n",
    "a=20\n",
    "b=10\n",
    "print(a>b) #greater than\n",
    "print(a<b) #lesser than\n",
    "print(a==b) #equals\n",
    "print(a!=b) #notequals\n",
    "print(a>=b)  #greater than or equal to\n",
    "print(a<=b) #less than or equal to"
   ]
  },
  {
   "cell_type": "code",
   "execution_count": 20,
   "id": "315ead45-a841-43e0-a09b-1f0de4200606",
   "metadata": {},
   "outputs": [
    {
     "name": "stdout",
     "output_type": "stream",
     "text": [
      "0\n",
      "14\n",
      "-11\n",
      "14\n",
      "5\n",
      "8\n"
     ]
    }
   ],
   "source": [
    "#Bitwise operators - They are used to perform bitwise opeartions/calculations on integers.\n",
    "a=10\n",
    "b=4\n",
    "print(a&b) #Bitwise AND - returns bit 1 if both operand bits are 1 else it returns 0\n",
    "print(a|b) #Bitwise OR - returns bit 1 if any of the operand bit is 1 else 0\n",
    "print(~a) #bitwise NOT - inverts every individual bit\n",
    "print(a^b) #bitwise XOR - returns bit 1 if any of the operand bit is 1, but not both, else 0\n",
    "print(a>>1) #bitwise right shift - the left operand's value is moved toward right by the number of bits specified by the right operand.\n",
    "print(b<<1) #bitwise left shift - the left operand's value is moved toward left by the number of bits specified by the right operand.\n"
   ]
  },
  {
   "cell_type": "code",
   "execution_count": 26,
   "id": "5bf5ba22-49c5-4d34-9d74-b8143fa765b2",
   "metadata": {},
   "outputs": [
    {
     "name": "stdout",
     "output_type": "stream",
     "text": [
      "not eligible\n"
     ]
    }
   ],
   "source": [
    "#Logical operators\n",
    "Age1=20\n",
    "Age2=15\n",
    "if Age1 and Age2 >=18:  #and operator: returns true only if both the operands are satisfied.\n",
    "    print(\"Eligible for driving\")\n",
    "else:\n",
    "    print(\"not eligible\")"
   ]
  },
  {
   "cell_type": "code",
   "execution_count": 27,
   "id": "6fd489f9-7153-4d43-8e61-29ee633b75cf",
   "metadata": {},
   "outputs": [
    {
     "name": "stdout",
     "output_type": "stream",
     "text": [
      "Eligible for driving\n"
     ]
    }
   ],
   "source": [
    "Age1=20\n",
    "Age2=15\n",
    "if Age1 or Age2 >=18:  #or operator: returns true only if any of the operands are satisfied.\n",
    "    print(\"Eligible for driving\")\n",
    "else:\n",
    "    print(\"not eligible\")"
   ]
  },
  {
   "cell_type": "code",
   "execution_count": 23,
   "id": "11cd449d-96df-4e61-b7db-f1565e9756dc",
   "metadata": {},
   "outputs": [
    {
     "name": "stdout",
     "output_type": "stream",
     "text": [
      "True\n"
     ]
    }
   ],
   "source": [
    "x = 5\n",
    "print(not(x > 3 and x > 10)) #not operator - returns true if the operand is false\n"
   ]
  },
  {
   "cell_type": "code",
   "execution_count": 2,
   "id": "886c1e5e-f29a-4215-8984-03acf8de1f6a",
   "metadata": {},
   "outputs": [
    {
     "name": "stdout",
     "output_type": "stream",
     "text": [
      "8\n",
      "8\n",
      "5\n",
      "15\n",
      "5.0\n"
     ]
    }
   ],
   "source": [
    "#Assignment operators\n",
    "a=5\n",
    "b=3\n",
    "print(a+b)\n",
    "a+=b #a= a+b\n",
    "print(a)\n",
    "a-=b #a=a-b\n",
    "print(a)\n",
    "a*=b #a=a*b\n",
    "print(a)\n",
    "a/=b #a=a/b\n",
    "print(a)"
   ]
  },
  {
   "cell_type": "code",
   "execution_count": 1,
   "id": "acd78bf2-2b19-4086-b19f-ed0f3d08a90c",
   "metadata": {},
   "outputs": [
    {
     "name": "stdout",
     "output_type": "stream",
     "text": [
      "True\n"
     ]
    }
   ],
   "source": [
    "#identity operators - used to compare objects if both the objects are actually of same data type and share same memory location\n",
    "x = 5\n",
    "y = 10\n",
    "z=x\n",
    "print(x is z) #is operator - Returns True if both variables are the same object"
   ]
  },
  {
   "cell_type": "code",
   "execution_count": 2,
   "id": "3eedf7f9-8b90-433c-a5a7-391c80d8f751",
   "metadata": {},
   "outputs": [
    {
     "name": "stdout",
     "output_type": "stream",
     "text": [
      "True\n",
      "True\n",
      "False\n"
     ]
    }
   ],
   "source": [
    "x = \"Hello\"\n",
    "y = \"World\"\n",
    "z = x\n",
    "print(x is not y) #is not- \tReturns True if both variables are not the same object\n",
    "print(x!=y)\n",
    "print(x is not z)"
   ]
  },
  {
   "cell_type": "code",
   "execution_count": 3,
   "id": "4541995d-b473-4f98-8a7a-7b695f3b4cdb",
   "metadata": {},
   "outputs": [
    {
     "name": "stdout",
     "output_type": "stream",
     "text": [
      "False\n"
     ]
    }
   ],
   "source": [
    "#Membership operators - Membership operators are used to test if a sequence is presented in an object\n",
    "x = [\"apple\", \"banana\"]\n",
    "print(\"mango\" in x) #in operator - Returns True if a sequence with the specified value is present in the object"
   ]
  },
  {
   "cell_type": "code",
   "execution_count": 17,
   "id": "0b186862-0789-4e80-b06f-7209196c6a82",
   "metadata": {},
   "outputs": [
    {
     "name": "stdout",
     "output_type": "stream",
     "text": [
      "True\n"
     ]
    }
   ],
   "source": [
    "x = [\"apple\", \"banana\"]\n",
    "print(\"pineapple\" not in x) #not in - Returns True if a sequence with the specified value is not present in the object\t"
   ]
  },
  {
   "cell_type": "code",
   "execution_count": 1,
   "id": "4ca0094e-3343-47bb-8518-8140fd3c32ea",
   "metadata": {},
   "outputs": [
    {
     "name": "stdout",
     "output_type": "stream",
     "text": [
      "Enter first number 5\n",
      "Enter second number 6\n"
     ]
    },
    {
     "name": "stdout",
     "output_type": "stream",
     "text": [
      "Sum of 5 and 6 is 11\n",
      "Difference of 5 and 6 is -1\n",
      "Multiplication of 5 and 6 is 30\n",
      "Division of 5 and 6 is 0.8333333333333334\n",
      "Mean of 5 and 6 is 5.5\n"
     ]
    }
   ],
   "source": [
    "#Building a simple calculator\n",
    "num1= int(input('Enter first number'))\n",
    "num2=int(input('Enter second number'))\n",
    "sum= num1+num2\n",
    "diff=num1-num2\n",
    "mul=num1*num2\n",
    "div=num1/num2\n",
    "mean=(num1+num2)/2\n",
    "print(\"Sum of {0} and {1} is {2}\".format(num1,num2,sum)) #format function\n",
    "print(\"Difference of {0} and {1} is {2}\".format(num1,num2,diff))\n",
    "print(\"Multiplication of {0} and {1} is {2}\".format(num1,num2,mul))\n",
    "print(\"Division of {0} and {1} is {2}\".format(num1,num2,div))\n",
    "print(\"Mean of {0} and {1} is {2}\".format(num1,num2,mean))"
   ]
  },
  {
   "cell_type": "code",
   "execution_count": 2,
   "id": "758bc126-ba59-465b-9117-f9cababdc31c",
   "metadata": {},
   "outputs": [
    {
     "name": "stdout",
     "output_type": "stream",
     "text": [
      "Enter a number 6\n"
     ]
    },
    {
     "name": "stdout",
     "output_type": "stream",
     "text": [
      "6 x 1 = 6\n",
      "6 x 2 = 12\n",
      "6 x 3 = 18\n",
      "6 x 4 = 24\n",
      "6 x 5 = 30\n",
      "6 x 6 = 36\n",
      "6 x 7 = 42\n",
      "6 x 8 = 48\n",
      "6 x 9 = 54\n",
      "6 x 10 = 60\n"
     ]
    }
   ],
   "source": [
    "#multiplicaion table using for loop\n",
    "n= int(input(\"Enter a number\"))\n",
    "for i in range(1,11):\n",
    "    print(n,\"x\",i,\"=\",n*i)\n"
   ]
  },
  {
   "cell_type": "code",
   "execution_count": 18,
   "id": "046cd44a-1241-4c03-92cf-b72fcfafb9fb",
   "metadata": {},
   "outputs": [
    {
     "ename": "NameError",
     "evalue": "name 'c' is not defined",
     "output_type": "error",
     "traceback": [
      "\u001b[1;31m---------------------------------------------------------------------------\u001b[0m",
      "\u001b[1;31mNameError\u001b[0m                                 Traceback (most recent call last)",
      "Cell \u001b[1;32mIn[18], line 2\u001b[0m\n\u001b[0;32m      1\u001b[0m \u001b[38;5;66;03m#Exception handling\u001b[39;00m\n\u001b[1;32m----> 2\u001b[0m \u001b[38;5;28mprint\u001b[39m(c)\n",
      "\u001b[1;31mNameError\u001b[0m: name 'c' is not defined"
     ]
    }
   ],
   "source": [
    "#Exception handling\n",
    "print(c)"
   ]
  },
  {
   "cell_type": "code",
   "execution_count": 19,
   "id": "70704aee-e3af-417a-87dc-5b926b285cad",
   "metadata": {},
   "outputs": [
    {
     "name": "stdout",
     "output_type": "stream",
     "text": [
      "An exception occurred\n"
     ]
    }
   ],
   "source": [
    "try:\n",
    "    print(c)\n",
    "except:\n",
    "  print(\"An exception occurred\")   "
   ]
  },
  {
   "cell_type": "code",
   "execution_count": 22,
   "id": "112fd8de-0d40-4d87-b489-688936a10302",
   "metadata": {},
   "outputs": [
    {
     "name": "stdout",
     "output_type": "stream",
     "text": [
      "Enter three values 7 8 9\n"
     ]
    },
    {
     "name": "stdout",
     "output_type": "stream",
     "text": [
      "No of All rounders: 7\n",
      "No of Batsman: 8\n",
      "No of Bowlers 9\n",
      "\n"
     ]
    }
   ],
   "source": [
    "#split function\n",
    "Allrounders, Batsman, Bowlers = input(\"Enter three values\").split()\n",
    "print(\"No of All rounders:\",Allrounders)\n",
    "print(\"No of Batsman:\",Batsman)\n",
    "print(\"No of Bowlers\", Bowlers)\n",
    "#print()"
   ]
  },
  {
   "cell_type": "code",
   "execution_count": 2,
   "id": "fb7e6e42-5dcf-44a7-b5bf-6fe21e97132e",
   "metadata": {},
   "outputs": [
    {
     "name": "stdout",
     "output_type": "stream",
     "text": [
      "650\n",
      "Number 3 is greater\n",
      "290\n",
      "number 4 is not the greatest number\n"
     ]
    }
   ],
   "source": [
    "#Identify the operator \n",
    "number1 = 150\n",
    "number2 = 200\n",
    "number3 = 300\n",
    "number4 = 140\n",
    "sum = number1+number2+number3\n",
    "print(sum)\n",
    "if(number1>number2 and number1>number3 and number1>number4):\n",
    "    print(\"Number 1 is greater\")\n",
    "elif(number2>number1 and number2>number3 and number2>number4):\n",
    "  \tprint(\"Number 2 is greater\")\n",
    "elif(number3>number1 and number3>number2 and number3>number4):\n",
    "  \tprint(\"Number 3 is greater\")\n",
    "else:\n",
    "\tprint(\"Number 4 is greater\")\n",
    "number1+=number4\n",
    "print(number1)\n",
    "if(number1>number4 or number2>number4 or number3>number4):\n",
    "\tprint(\"number 4 is not the greatest number\")\n",
    "else:\n",
    "\tprint(\"number 4 is greater\")   "
   ]
  },
  {
   "cell_type": "code",
   "execution_count": null,
   "id": "b7c6eba9-179a-482f-a913-38cbc123f6c7",
   "metadata": {},
   "outputs": [],
   "source": []
  }
 ],
 "metadata": {
  "kernelspec": {
   "display_name": "Python 3 (ipykernel)",
   "language": "python",
   "name": "python3"
  },
  "language_info": {
   "codemirror_mode": {
    "name": "ipython",
    "version": 3
   },
   "file_extension": ".py",
   "mimetype": "text/x-python",
   "name": "python",
   "nbconvert_exporter": "python",
   "pygments_lexer": "ipython3",
   "version": "3.11.5"
  }
 },
 "nbformat": 4,
 "nbformat_minor": 5
}
