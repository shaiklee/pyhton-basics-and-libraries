{
 "cells": [
  {
   "cell_type": "markdown",
   "id": "2e7183b9-b601-499c-857e-61f6f89c5821",
   "metadata": {},
   "source": [
    "Demo: File Handling in NumPy"
   ]
  },
  {
   "cell_type": "markdown",
   "id": "4dda6eb3-50f3-4c5c-9982-7c1b4b1eba3f",
   "metadata": {},
   "source": [
    "Step:1 import NumPy"
   ]
  },
  {
   "cell_type": "code",
   "execution_count": 1,
   "id": "40ddc7bd-5805-4c6c-8f54-a1fcef3d3551",
   "metadata": {},
   "outputs": [],
   "source": [
    "import numpy as np"
   ]
  },
  {
   "cell_type": "markdown",
   "id": "5cd641c4-9bee-4449-9b54-364aa0b8835c",
   "metadata": {},
   "source": [
    "Step:2 Load Marks.csv file"
   ]
  },
  {
   "cell_type": "code",
   "execution_count": 6,
   "id": "17411704-870f-493a-99fc-7f47350b4519",
   "metadata": {},
   "outputs": [],
   "source": [
    "data=np.loadtxt('C:\\\\Users\\\\Shilpa R\\\\Downloads\\\\marks.csv',delimiter=',',usecols=(5),skiprows=1,dtype='int')"
   ]
  },
  {
   "cell_type": "markdown",
   "id": "6bc3fb3f-0531-4e23-8fe2-4e52917f2c20",
   "metadata": {},
   "source": [
    "Step:3 Display the column on which we are going to perform different aggregate functions"
   ]
  },
  {
   "cell_type": "code",
   "execution_count": 7,
   "id": "55cbd58f-84dd-45f9-acb0-21d9e546b6e5",
   "metadata": {},
   "outputs": [
    {
     "name": "stdout",
     "output_type": "stream",
     "text": [
      "Data: [420 280 350 269 317 470 333 365 305 350 460 474 409 377 415 382 298 462\n",
      " 370 313 464 302 252 259 308 392 424 403 370 328 398 434 291 472 263 439\n",
      " 464 449 401 364 296 292 438 357 331 317 429 407 321 274 447 274 437 411\n",
      " 257 310 396 270 311 459 378 316 283 266 381 409 313 306 448 348 292 400\n",
      " 352 441 428 309 441 439 264 281 302 432 423 336 383 321 469 270 341 281\n",
      " 403 333 323 348 345 397 449 261 456 370 322 379 446 404 301 254 351 444\n",
      " 264 286 463 273 316 324 465 398 324 340 414 346 408 332 394 474 398 262\n",
      " 410 391 444 461]\n",
      "<class 'numpy.ndarray'>\n"
     ]
    }
   ],
   "source": [
    "print('Data:',data)\n",
    "print(type(data))"
   ]
  },
  {
   "cell_type": "markdown",
   "id": "38399e97-4b66-42cd-b4a2-6b5fcc62ad74",
   "metadata": {},
   "source": [
    "Step:4 Calculate different aggregate functions on marks.csv file"
   ]
  },
  {
   "cell_type": "code",
   "execution_count": 8,
   "id": "12f8d36c-9814-4682-a283-85f430deb64c",
   "metadata": {},
   "outputs": [
    {
     "name": "stdout",
     "output_type": "stream",
     "text": [
      "Sum 47356\n"
     ]
    }
   ],
   "source": [
    "#printing the sum of the given data\n",
    "print('Sum',data.sum())"
   ]
  },
  {
   "cell_type": "code",
   "execution_count": 9,
   "id": "44a1efe2-daa3-4cb1-8f70-699a344694ac",
   "metadata": {},
   "outputs": [
    {
     "name": "stdout",
     "output_type": "stream",
     "text": [
      "Minimum is 252\n"
     ]
    }
   ],
   "source": [
    "#printing the minimum data from the given data\n",
    "print('Minimum is',data.min())"
   ]
  },
  {
   "cell_type": "code",
   "execution_count": 10,
   "id": "e90426d2-2ad4-4db0-813c-7bc9fd2101e8",
   "metadata": {},
   "outputs": [
    {
     "name": "stdout",
     "output_type": "stream",
     "text": [
      "Maximum is 474\n"
     ]
    }
   ],
   "source": [
    "#printing the maximum data from the given data\n",
    "print('Maximum is',data.max())"
   ]
  },
  {
   "cell_type": "code",
   "execution_count": 11,
   "id": "885b1192-3ad1-43ba-9ab2-a264be4e1b80",
   "metadata": {},
   "outputs": [
    {
     "name": "stdout",
     "output_type": "stream",
     "text": [
      "Mean 364.2769230769231\n"
     ]
    }
   ],
   "source": [
    "#printing the mean value for the given data\n",
    "print('Mean',data.mean())"
   ]
  },
  {
   "cell_type": "code",
   "execution_count": 12,
   "id": "6b5d41ad-209b-45c3-82ce-e28679a75c04",
   "metadata": {},
   "outputs": [
    {
     "name": "stdout",
     "output_type": "stream",
     "text": [
      "Standard deviation is 66.17947803971762\n",
      "Variance 4379.723313609467\n"
     ]
    }
   ],
   "source": [
    "#Calculating the standard deviation of the given data\n",
    "print('Standard deviation is',data.std())\n",
    "print('Variance',data.var())"
   ]
  },
  {
   "cell_type": "code",
   "execution_count": null,
   "id": "fc29b48f-6f95-4570-afb9-800c69ff5e97",
   "metadata": {},
   "outputs": [],
   "source": []
  }
 ],
 "metadata": {
  "kernelspec": {
   "display_name": "Python 3 (ipykernel)",
   "language": "python",
   "name": "python3"
  },
  "language_info": {
   "codemirror_mode": {
    "name": "ipython",
    "version": 3
   },
   "file_extension": ".py",
   "mimetype": "text/x-python",
   "name": "python",
   "nbconvert_exporter": "python",
   "pygments_lexer": "ipython3",
   "version": "3.11.5"
  }
 },
 "nbformat": 4,
 "nbformat_minor": 5
}
