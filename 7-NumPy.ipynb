{
 "cells": [
  {
   "cell_type": "markdown",
   "id": "98dd1bcf-0bc7-4f61-8957-b67084605ac1",
   "metadata": {},
   "source": [
    "NumPy - library used for numerical computations and array operations"
   ]
  },
  {
   "cell_type": "code",
   "execution_count": 37,
   "id": "99e87ad2-b065-4825-8a77-a325fa141262",
   "metadata": {},
   "outputs": [],
   "source": [
    "#load the numpy library as np\n",
    "import numpy as np"
   ]
  },
  {
   "cell_type": "code",
   "execution_count": 38,
   "id": "2a5c464e-a113-42f5-8570-14905c667857",
   "metadata": {},
   "outputs": [
    {
     "data": {
      "text/plain": [
       "'1.26.4'"
      ]
     },
     "execution_count": 38,
     "metadata": {},
     "output_type": "execute_result"
    }
   ],
   "source": [
    "np.__version__"
   ]
  },
  {
   "cell_type": "code",
   "execution_count": 7,
   "id": "364b6ad2-71da-4857-9e61-f2da1a9ab21a",
   "metadata": {},
   "outputs": [
    {
     "ename": "TypeError",
     "evalue": "unsupported operand type(s) for /: 'list' and 'list'",
     "output_type": "error",
     "traceback": [
      "\u001b[1;31m---------------------------------------------------------------------------\u001b[0m",
      "\u001b[1;31mTypeError\u001b[0m                                 Traceback (most recent call last)",
      "Cell \u001b[1;32mIn[7], line 4\u001b[0m\n\u001b[0;32m      2\u001b[0m total\u001b[38;5;241m=\u001b[39m[\u001b[38;5;241m100\u001b[39m,\u001b[38;5;241m100\u001b[39m,\u001b[38;5;241m100\u001b[39m]\n\u001b[0;32m      3\u001b[0m \u001b[38;5;66;03m#below element by element divsion does not work with lists\u001b[39;00m\n\u001b[1;32m----> 4\u001b[0m marks\u001b[38;5;241m/\u001b[39mtotal\n",
      "\u001b[1;31mTypeError\u001b[0m: unsupported operand type(s) for /: 'list' and 'list'"
     ]
    }
   ],
   "source": [
    "marks=[56,89,78]\n",
    "total=[100,100,100]\n",
    "#below element by element divsion does not work with lists\n",
    "marks/total"
   ]
  },
  {
   "cell_type": "code",
   "execution_count": 8,
   "id": "82b457a8-4030-40ed-907a-26ac6bbb67d4",
   "metadata": {},
   "outputs": [
    {
     "data": {
      "text/plain": [
       "array([56, 89, 78])"
      ]
     },
     "execution_count": 8,
     "metadata": {},
     "output_type": "execute_result"
    }
   ],
   "source": [
    "stdnt_marks=np.array([56,89,78])\n",
    "stdnt_marks"
   ]
  },
  {
   "cell_type": "code",
   "execution_count": 9,
   "id": "40de3eca-e892-4bc6-bb83-65d62cf23c36",
   "metadata": {},
   "outputs": [],
   "source": [
    "#1D element\n",
    "total=np.array([100,100,100])"
   ]
  },
  {
   "cell_type": "code",
   "execution_count": 11,
   "id": "8bbcff6a-b639-4448-aa36-2efedf889252",
   "metadata": {},
   "outputs": [
    {
     "name": "stdout",
     "output_type": "stream",
     "text": [
      "[0.56 0.89 0.78]\n"
     ]
    }
   ],
   "source": [
    "ans=stdnt_marks/total\n",
    "print(ans)"
   ]
  },
  {
   "cell_type": "code",
   "execution_count": null,
   "id": "3a497b12-e7f4-4c8b-8723-a0df81c7fb7e",
   "metadata": {},
   "outputs": [],
   "source": [
    "#Functions for numpy array\n",
    "stdnt_marks=np.array([56,89,78])\n",
    "stdnt_marks"
   ]
  },
  {
   "cell_type": "code",
   "execution_count": 12,
   "id": "de6cfa8a-ba2c-49a6-b7b6-20c34b760cda",
   "metadata": {},
   "outputs": [
    {
     "data": {
      "text/plain": [
       "dtype('int32')"
      ]
     },
     "execution_count": 12,
     "metadata": {},
     "output_type": "execute_result"
    }
   ],
   "source": [
    "stdnt_marks.dtype #dtype-It is used to specify the type of data stored in an array or a variable. "
   ]
  },
  {
   "cell_type": "code",
   "execution_count": 13,
   "id": "ec8bd7bf-1aea-4064-9e3b-80dc8314df33",
   "metadata": {},
   "outputs": [
    {
     "data": {
      "text/plain": [
       "1"
      ]
     },
     "execution_count": 13,
     "metadata": {},
     "output_type": "execute_result"
    }
   ],
   "source": [
    "#dimension of array\n",
    "stdnt_marks.ndim"
   ]
  },
  {
   "cell_type": "code",
   "execution_count": 14,
   "id": "9ee905d1-45fb-4960-a769-536710d14e81",
   "metadata": {},
   "outputs": [
    {
     "data": {
      "text/plain": [
       "3"
      ]
     },
     "execution_count": 14,
     "metadata": {},
     "output_type": "execute_result"
    }
   ],
   "source": [
    "#size of each element- refers to the total number of elements in the array.\n",
    "stdnt_marks.size"
   ]
  },
  {
   "cell_type": "code",
   "execution_count": 15,
   "id": "0f5c67bf-4314-494d-9967-e1bb96db9b33",
   "metadata": {},
   "outputs": [
    {
     "data": {
      "text/plain": [
       "(3,)"
      ]
     },
     "execution_count": 15,
     "metadata": {},
     "output_type": "execute_result"
    }
   ],
   "source": [
    "#shape -  refers to the dimensions (rows and columns) of the array.\n",
    "stdnt_marks.shape"
   ]
  },
  {
   "cell_type": "code",
   "execution_count": 18,
   "id": "a79e396b-d89d-4b67-883f-4ecb7aa4344c",
   "metadata": {},
   "outputs": [
    {
     "data": {
      "text/plain": [
       "array([[10,  3],\n",
       "       [15,  2],\n",
       "       [25,  2],\n",
       "       [30,  3]])"
      ]
     },
     "execution_count": 18,
     "metadata": {},
     "output_type": "execute_result"
    }
   ],
   "source": [
    "#indexing 2 dimensional data\n",
    "data = np.array([[10,3],[15,2],[25,2],[30,3]],dtype='int32')\n",
    "data"
   ]
  },
  {
   "cell_type": "code",
   "execution_count": 19,
   "id": "9f6b05e9-bd65-40b1-a66f-a34231038509",
   "metadata": {},
   "outputs": [
    {
     "data": {
      "text/plain": [
       "array([15,  2])"
      ]
     },
     "execution_count": 19,
     "metadata": {},
     "output_type": "execute_result"
    }
   ],
   "source": [
    "#2D arrays rows and columns\n",
    "data[1,] #the elements/values in the first index will be printed"
   ]
  },
  {
   "cell_type": "code",
   "execution_count": 20,
   "id": "12e0e893-fa0d-47c0-b53d-4212c2a8f86e",
   "metadata": {},
   "outputs": [
    {
     "data": {
      "text/plain": [
       "array([15,  2])"
      ]
     },
     "execution_count": 20,
     "metadata": {},
     "output_type": "execute_result"
    }
   ],
   "source": [
    "data[1,:] #This syntax explicitly specifies both the row and the column indices.The : is a slice notation indicating \"all.\""
   ]
  },
  {
   "cell_type": "code",
   "execution_count": 21,
   "id": "e4c5987f-7b9e-4882-936a-f362d5c9a689",
   "metadata": {},
   "outputs": [
    {
     "data": {
      "text/plain": [
       "array([[10],\n",
       "       [15]])"
      ]
     },
     "execution_count": 21,
     "metadata": {},
     "output_type": "execute_result"
    }
   ],
   "source": [
    "data[0:2,[0]]"
   ]
  },
  {
   "cell_type": "code",
   "execution_count": 22,
   "id": "b06c4250-b3ca-4259-8847-1de8b78f7af1",
   "metadata": {},
   "outputs": [
    {
     "data": {
      "text/plain": [
       "2"
      ]
     },
     "execution_count": 22,
     "metadata": {},
     "output_type": "execute_result"
    }
   ],
   "source": [
    "data[2,1]"
   ]
  },
  {
   "cell_type": "code",
   "execution_count": 23,
   "id": "23432699-7217-49b4-9226-cf91753eabff",
   "metadata": {},
   "outputs": [
    {
     "data": {
      "text/plain": [
       "2"
      ]
     },
     "execution_count": 23,
     "metadata": {},
     "output_type": "execute_result"
    }
   ],
   "source": [
    "data.ndim"
   ]
  },
  {
   "cell_type": "code",
   "execution_count": 24,
   "id": "dde6874b-1143-4e06-a86e-c64b98c95574",
   "metadata": {},
   "outputs": [
    {
     "data": {
      "text/plain": [
       "(4, 2)"
      ]
     },
     "execution_count": 24,
     "metadata": {},
     "output_type": "execute_result"
    }
   ],
   "source": [
    "data.shape"
   ]
  },
  {
   "cell_type": "markdown",
   "id": "dcf48a33-50fe-47f7-b021-4612a63e8757",
   "metadata": {},
   "source": [
    "Introduction to NumPy Array"
   ]
  },
  {
   "cell_type": "code",
   "execution_count": 25,
   "id": "cc26e694-e9ef-4418-8113-46d47b046ad2",
   "metadata": {},
   "outputs": [
    {
     "data": {
      "text/plain": [
       "array([[1., 1., 1.],\n",
       "       [1., 1., 1.],\n",
       "       [1., 1., 1.]])"
      ]
     },
     "execution_count": 25,
     "metadata": {},
     "output_type": "execute_result"
    }
   ],
   "source": [
    "ones_arr=np.ones((3,3))\n",
    "ones_arr"
   ]
  },
  {
   "cell_type": "code",
   "execution_count": 26,
   "id": "e64b0459-eeaa-4343-b1e8-1e218541c7cf",
   "metadata": {},
   "outputs": [
    {
     "data": {
      "text/plain": [
       "array([[0.],\n",
       "       [0.]])"
      ]
     },
     "execution_count": 26,
     "metadata": {},
     "output_type": "execute_result"
    }
   ],
   "source": [
    "zero_arr=np.zeros((2,1))\n",
    "zero_arr"
   ]
  },
  {
   "cell_type": "code",
   "execution_count": null,
   "id": "16677fb3-1845-4703-9b6d-15124370c370",
   "metadata": {},
   "outputs": [],
   "source": [
    "#The asarray() method in NumPy can be used to create an array from data that already exists\n",
    "'''numpy.asarray() is a function that is essentially a more flexible version of numpy.array().\n",
    "It is a convenient function to convert input to an array, but if the input is already an array, asarray does not make a copy.numpy.array() is a function to create an array from a given object (like a list or tuple).\n",
    "If the input is already an array, it will make a copy of the array.'''\n",
    "#convert list to array\n",
    "x=[1,2,3]\n",
    "a=np.asarray(x)\n",
    "print(a)"
   ]
  },
  {
   "cell_type": "code",
   "execution_count": 29,
   "id": "33c7972b-a240-4396-bf1d-86714d870ac7",
   "metadata": {},
   "outputs": [
    {
     "name": "stdout",
     "output_type": "stream",
     "text": [
      "[6 7 9]\n"
     ]
    }
   ],
   "source": [
    "x=[6,7,9]\n",
    "a1=np.array(x)\n",
    "print(a1)"
   ]
  },
  {
   "cell_type": "code",
   "execution_count": 28,
   "id": "8282ce3a-0ae5-46cc-ab04-14314451ca1e",
   "metadata": {},
   "outputs": [
    {
     "name": "stdout",
     "output_type": "stream",
     "text": [
      "[1 2 3]\n"
     ]
    }
   ],
   "source": [
    "a=np.array([1,2,3])\n",
    "print(a)"
   ]
  },
  {
   "cell_type": "code",
   "execution_count": 30,
   "id": "60eeb8e9-9832-4d1b-aa6b-21023d84df30",
   "metadata": {},
   "outputs": [
    {
     "name": "stdout",
     "output_type": "stream",
     "text": [
      "[[ 8  2  3]\n",
      " [ 4  7 13]]\n",
      "[[8 2 3]\n",
      " [4 7 6]]\n"
     ]
    }
   ],
   "source": [
    "#copy Array using numpy.copy()\n",
    "#create a numpy array\n",
    "a=np.array([[8,2,3],\n",
    "           [4,7,6]])\n",
    "#copy contents of a to b\n",
    "b=a.copy()\n",
    "\n",
    "#modify a\n",
    "a[1,2]=13\n",
    "\n",
    "#check if b has remained the same\n",
    "print(a)\n",
    "print(b)"
   ]
  },
  {
   "cell_type": "code",
   "execution_count": 31,
   "id": "313608cd-cdee-46a2-bdf3-cfcfc6555328",
   "metadata": {},
   "outputs": [
    {
     "name": "stdout",
     "output_type": "stream",
     "text": [
      "[ 0  1  2  3  4  5  6  7  8  9 10 11 12 13 14 15 16 17 18 19]\n"
     ]
    }
   ],
   "source": [
    "#using numerical range arange()\n",
    "arr=np.arange(0,20)\n",
    "print(arr)"
   ]
  },
  {
   "cell_type": "code",
   "execution_count": 32,
   "id": "b09d0574-05b7-422c-848d-9d69ad220d86",
   "metadata": {},
   "outputs": [
    {
     "name": "stdout",
     "output_type": "stream",
     "text": [
      "Numpy multi dimensional array in python\n",
      " [[ 1  2  3  4]\n",
      " [ 5  6  7  8]\n",
      " [ 9 10 11 12]]\n"
     ]
    }
   ],
   "source": [
    "#importing numpy module\n",
    "import numpy as np\n",
    "\n",
    "#creating list\n",
    "list1=[1,2,3,4]\n",
    "list2=[5,6,7,8]\n",
    "list3=[9,10,11,12]\n",
    "\n",
    "#creating numpy array\n",
    "sample_array=np.array([list1,\n",
    "                       list2,\n",
    "                       list3])\n",
    "print(\"Numpy multi dimensional array in python\\n\",sample_array)"
   ]
  },
  {
   "cell_type": "code",
   "execution_count": 33,
   "id": "f3fdc10c-9c76-4000-99e3-5c8f2e7a84a8",
   "metadata": {},
   "outputs": [
    {
     "name": "stdout",
     "output_type": "stream",
     "text": [
      "Shape of the array : (3, 4)\n"
     ]
    }
   ],
   "source": [
    "#print shape of the array\n",
    "print(\"Shape of the array :\", sample_array.shape)"
   ]
  },
  {
   "cell_type": "code",
   "execution_count": 34,
   "id": "945224f6-1067-4e66-a490-d08f86d33ebd",
   "metadata": {},
   "outputs": [
    {
     "name": "stdout",
     "output_type": "stream",
     "text": [
      "Shape of the array: (5, 3)\n",
      "[[ 0  4  2]\n",
      " [ 3  4  5]\n",
      " [23  4  5]\n",
      " [ 2 34  5]\n",
      " [ 5  6  7]]\n"
     ]
    }
   ],
   "source": [
    "import numpy as np\n",
    "sample_array1= np.array([[0,4,2],\n",
    "                         [3,4,5],\n",
    "                         [23,4,5],\n",
    "                         [2,34,5],\n",
    "                         [5,6,7]])\n",
    "print(\"Shape of the array:\",sample_array1.shape)\n",
    "print(sample_array1)"
   ]
  },
  {
   "cell_type": "code",
   "execution_count": 4,
   "id": "815a89df-2bfa-45a8-82f5-c3d8e5ba1037",
   "metadata": {},
   "outputs": [
    {
     "name": "stdout",
     "output_type": "stream",
     "text": [
      "Data type of array1: int32\n",
      "Data type of array2: float64\n",
      "[[0 4 2]]\n",
      "[0.2 0.4 2.4]\n"
     ]
    }
   ],
   "source": [
    "#import module\n",
    "import numpy as np\n",
    "\n",
    "#creating the array\n",
    "sample_array1=np.array([[0,4,2]])\n",
    "sample_array2=np.array([0.2,0.4,2.4])\n",
    "\n",
    "#display data type\n",
    "print(\"Data type of array1:\",sample_array1.dtype)\n",
    "print(\"Data type of array2:\",sample_array2.dtype)\n",
    "\n",
    "print(sample_array1)\n",
    "print(sample_array2)\n"
   ]
  },
  {
   "cell_type": "code",
   "execution_count": 36,
   "id": "9920d6ca-85ba-4a34-8aab-30e0067dda88",
   "metadata": {},
   "outputs": [
    {
     "data": {
      "text/plain": [
       "array([ 1.,  3.,  5.,  7.,  9., 11., 13., 15., 17., 19.], dtype=float32)"
      ]
     },
     "execution_count": 36,
     "metadata": {},
     "output_type": "execute_result"
    }
   ],
   "source": [
    "#numpy.arange(): This is an inbuilt NumPy function that returns evenly spaced values within a given interval\n",
    "np.arange(1,20,2,dtype=np.float32)"
   ]
  },
  {
   "cell_type": "code",
   "execution_count": 5,
   "id": "8244e5a4-7349-49cd-b039-5c1bccc087f2",
   "metadata": {},
   "outputs": [
    {
     "data": {
      "text/plain": [
       "array([ 1,  3,  5,  7,  9, 11, 13, 15, 17, 19])"
      ]
     },
     "execution_count": 5,
     "metadata": {},
     "output_type": "execute_result"
    }
   ],
   "source": [
    "np.arange(1,20,2)"
   ]
  },
  {
   "cell_type": "code",
   "execution_count": 11,
   "id": "f7fa0159-46d2-4da6-a23e-37a24fbc22dd",
   "metadata": {},
   "outputs": [
    {
     "data": {
      "text/plain": [
       "array([ 0.,  5., 10., 15., 20.])"
      ]
     },
     "execution_count": 11,
     "metadata": {},
     "output_type": "execute_result"
    }
   ],
   "source": [
    "#using numerical range linespace()\n",
    "#numpy.linspace(): This function returns evenly spaced numbers over a specified between two limits\n",
    "np.linspace(0,20,5)"
   ]
  },
  {
   "cell_type": "code",
   "execution_count": 12,
   "id": "ee9db97c-d333-4de6-b822-8f6574b5a0ac",
   "metadata": {},
   "outputs": [
    {
     "data": {
      "text/plain": [
       "array([ 3,  6, 10])"
      ]
     },
     "execution_count": 12,
     "metadata": {},
     "output_type": "execute_result"
    }
   ],
   "source": [
    "import numpy as np\n",
    "np.linspace(3.5,10,3,dtype=np.int32)"
   ]
  },
  {
   "cell_type": "code",
   "execution_count": 13,
   "id": "3217aa0a-52cb-44db-a924-f960c1012ad1",
   "metadata": {},
   "outputs": [
    {
     "data": {
      "text/plain": [
       "array([ 3.5 ,  6.75, 10.  ])"
      ]
     },
     "execution_count": 13,
     "metadata": {},
     "output_type": "execute_result"
    }
   ],
   "source": [
    "import numpy as np\n",
    "np.linspace(3.5,10,3)"
   ]
  },
  {
   "cell_type": "code",
   "execution_count": 14,
   "id": "bee42815-5a93-41f7-a5dd-062e2650fbdd",
   "metadata": {},
   "outputs": [
    {
     "data": {
      "text/plain": [
       "array([[1, 1, 1],\n",
       "       [1, 1, 1],\n",
       "       [1, 1, 1],\n",
       "       [1, 1, 1]])"
      ]
     },
     "execution_count": 14,
     "metadata": {},
     "output_type": "execute_result"
    }
   ],
   "source": [
    "#numpy.ones(): This function is used to get a new array of given shape and type,filled with ones(1)\n",
    "import numpy as np\n",
    "np.ones([4,3],dtype=np.int32)"
   ]
  },
  {
   "cell_type": "code",
   "execution_count": 15,
   "id": "44d845d9-65c9-4d7b-a550-2cf7fc986654",
   "metadata": {},
   "outputs": [
    {
     "data": {
      "text/plain": [
       "array([[0, 0, 0],\n",
       "       [0, 0, 0],\n",
       "       [0, 0, 0],\n",
       "       [0, 0, 0]])"
      ]
     },
     "execution_count": 15,
     "metadata": {},
     "output_type": "execute_result"
    }
   ],
   "source": [
    "np.zeros([4,3],\n",
    "         dtype=np.int32)"
   ]
  },
  {
   "cell_type": "code",
   "execution_count": 17,
   "id": "23ec32d6-6f97-420e-9afa-cc893756a0a1",
   "metadata": {},
   "outputs": [
    {
     "name": "stdout",
     "output_type": "stream",
     "text": [
      "2\n",
      "6\n",
      "(2, 3)\n",
      "int32\n",
      "4\n"
     ]
    }
   ],
   "source": [
    "import numpy as np\n",
    "#create a 2-D array\n",
    "array1=np.array([[2,4,6],\n",
    "                 [1,3,5]])\n",
    "\n",
    "#check the dimension of array1\n",
    "print(array1.ndim)\n",
    "\n",
    "#return total number of elements in array1\n",
    "print(array1.size)\n",
    "\n",
    "#return a tuple that gives size of array in each dimension\n",
    "print(array1.shape)\n",
    "\n",
    "#check the data type of array1\n",
    "print(array1.dtype)\n",
    "\n",
    "#use of itemsize to determine size of each array element of array1 and array2\n",
    "print(array1.itemsize)"
   ]
  },
  {
   "cell_type": "code",
   "execution_count": 18,
   "id": "b20aa3f1-9912-49f3-89af-58edc2d756c3",
   "metadata": {},
   "outputs": [
    {
     "name": "stdout",
     "output_type": "stream",
     "text": [
      "[1 3 5 7 9]\n",
      "[1 2 3 4 5 6 7 8 9]\n"
     ]
    }
   ],
   "source": [
    "#providing two arange arguements\n",
    "arr1=np.arange(start=1,stop=10,step=2)\n",
    "print(arr1)\n",
    "\n",
    "arr2=np.arange(start=1,stop=10)\n",
    "print(arr2)"
   ]
  },
  {
   "cell_type": "markdown",
   "id": "c3e125ea-025e-4584-b5fe-e922351b7189",
   "metadata": {},
   "source": [
    "Basic Numpy operation"
   ]
  },
  {
   "cell_type": "code",
   "execution_count": 19,
   "id": "308d73c6-d9aa-4a89-b459-84748ebca640",
   "metadata": {},
   "outputs": [
    {
     "name": "stdout",
     "output_type": "stream",
     "text": [
      "[ 13  24 105 206 507]\n"
     ]
    }
   ],
   "source": [
    "#Numpy ADD operator\n",
    "#we can also use the add operator \"+\" to perform addition of two arrays\n",
    "import numpy as np\n",
    "a=np.array([10,20,100,200,500])\n",
    "b=np.array([3,4,5,6,7])\n",
    "print(a+b)"
   ]
  },
  {
   "cell_type": "code",
   "execution_count": 20,
   "id": "8213c9e8-893a-49b6-8901-ef4e87ebd028",
   "metadata": {},
   "outputs": [
    {
     "data": {
      "text/plain": [
       "array([ 13,  24, 105, 206, 507])"
      ]
     },
     "execution_count": 20,
     "metadata": {},
     "output_type": "execute_result"
    }
   ],
   "source": [
    "np.add(a,b)"
   ]
  },
  {
   "cell_type": "code",
   "execution_count": 21,
   "id": "a56c46db-0af6-4a7e-8cf9-f9020acd258f",
   "metadata": {},
   "outputs": [
    {
     "data": {
      "text/plain": [
       "array([  7,  16,  95, 194, 493])"
      ]
     },
     "execution_count": 21,
     "metadata": {},
     "output_type": "execute_result"
    }
   ],
   "source": [
    "#Numpy subtract operator\n",
    "a=np.array([10,20,100,200,500])\n",
    "b=np.array([3,4,5,6,7])\n",
    "np.subtract(a,b)"
   ]
  },
  {
   "cell_type": "code",
   "execution_count": 22,
   "id": "f1a305bf-d38c-4fad-99ea-af1d0ed18659",
   "metadata": {},
   "outputs": [
    {
     "data": {
      "text/plain": [
       "array([21, 12, 20, 30,  7])"
      ]
     },
     "execution_count": 22,
     "metadata": {},
     "output_type": "execute_result"
    }
   ],
   "source": [
    "#Numpy multiply function\n",
    "a=np.array([7,3,4,5,1])\n",
    "b=np.array([3,4,5,6,7])\n",
    "np.multiply(a,b)"
   ]
  },
  {
   "cell_type": "code",
   "execution_count": 23,
   "id": "eadea759-1b12-4430-9b63-f3461b4faa63",
   "metadata": {},
   "outputs": [
    {
     "name": "stdout",
     "output_type": "stream",
     "text": [
      "[21 12 20 30  7]\n"
     ]
    }
   ],
   "source": [
    "print(a*b)"
   ]
  },
  {
   "cell_type": "code",
   "execution_count": 24,
   "id": "b3911808-442c-48e1-bc34-5b487f923436",
   "metadata": {},
   "outputs": [
    {
     "data": {
      "text/plain": [
       "array([2.33333333, 0.75      , 0.8       , 0.83333333, 0.14285714])"
      ]
     },
     "execution_count": 24,
     "metadata": {},
     "output_type": "execute_result"
    }
   ],
   "source": [
    "#NumPy Divide function\n",
    "a=np.array([7,3,4,5,1])\n",
    "b=np.array([3,4,5,6,7])\n",
    "np.divide(a,b)"
   ]
  },
  {
   "cell_type": "code",
   "execution_count": 25,
   "id": "b49a7390-07c4-44a1-8835-b760c0e3d346",
   "metadata": {},
   "outputs": [
    {
     "name": "stdout",
     "output_type": "stream",
     "text": [
      "[2.33333333 0.75       0.8        0.83333333 0.14285714]\n"
     ]
    }
   ],
   "source": [
    "print(a/b)"
   ]
  },
  {
   "cell_type": "code",
   "execution_count": 26,
   "id": "555e3391-9e48-4852-adcc-03360ac28e07",
   "metadata": {},
   "outputs": [
    {
     "data": {
      "text/plain": [
       "array([1, 3, 4, 5, 1])"
      ]
     },
     "execution_count": 26,
     "metadata": {},
     "output_type": "execute_result"
    }
   ],
   "source": [
    "#NumPy mod function\n",
    "#We use both the functions to output the remainder of the division of two arrays\n",
    "a=np.array([7,3,4,5,1])\n",
    "b=np.array([3,4,5,6,7])\n",
    "np.mod(a,b)"
   ]
  },
  {
   "cell_type": "code",
   "execution_count": 27,
   "id": "83ab5486-2730-47bf-b80b-49fbd28e82a9",
   "metadata": {},
   "outputs": [
    {
     "data": {
      "text/plain": [
       "array([1, 3, 4, 5, 1])"
      ]
     },
     "execution_count": 27,
     "metadata": {},
     "output_type": "execute_result"
    }
   ],
   "source": [
    "a%b"
   ]
  },
  {
   "cell_type": "code",
   "execution_count": 28,
   "id": "c81c2405-170b-4440-8ddd-c2261a85c901",
   "metadata": {},
   "outputs": [
    {
     "data": {
      "text/plain": [
       "array([1, 3, 4, 5, 1])"
      ]
     },
     "execution_count": 28,
     "metadata": {},
     "output_type": "execute_result"
    }
   ],
   "source": [
    "np.remainder(a,b)"
   ]
  },
  {
   "cell_type": "code",
   "execution_count": 29,
   "id": "8ba1cdc4-b129-4885-a05b-3114f1437fdb",
   "metadata": {},
   "outputs": [
    {
     "name": "stdout",
     "output_type": "stream",
     "text": [
      "[0 1 2 3 4 5]\n",
      "[ 6  7  8  9 10 11]\n",
      "Addition: [ 6  8 10 12 14 16]\n",
      "Subtraction: [-6 -6 -6 -6 -6 -6]\n",
      "Multiplication: [ 0  7 16 27 40 55]\n",
      "Division: [0.         0.14285714 0.25       0.33333333 0.4        0.45454545]\n",
      "Modulus: [0 1 2 3 4 5]\n",
      "Exponentiation: [       0        1      256    19683  1048576 48828125]\n"
     ]
    }
   ],
   "source": [
    "#Arithmetic operators with single dimensional array\n",
    "#create two arrays using np.arange\n",
    "a=np.arange(6)\n",
    "b=np.arange(6,12)\n",
    "\n",
    "#Element-wise arithmetic operations\n",
    "result_addition=a+b\n",
    "result_subtraction=a-b\n",
    "result_multiplication=a*b\n",
    "result_division=a/b\n",
    "result_modulus=a%b\n",
    "result_exponentiation=a**b\n",
    "print(a)\n",
    "print(b)\n",
    "print(\"Addition:\",result_addition)\n",
    "print(\"Subtraction:\",result_subtraction)\n",
    "print(\"Multiplication:\",result_multiplication)\n",
    "print(\"Division:\",result_division)\n",
    "print(\"Modulus:\",result_modulus)\n",
    "print(\"Exponentiation:\",result_exponentiation)"
   ]
  },
  {
   "cell_type": "code",
   "execution_count": 31,
   "id": "5ba7ea85-94ae-4f06-9f7b-c1c233deca6a",
   "metadata": {},
   "outputs": [
    {
     "name": "stdout",
     "output_type": "stream",
     "text": [
      "[[ 0  1  2  3]\n",
      " [ 4  5  6  7]\n",
      " [ 8  9 10 11]]\n",
      "[[1. 1. 1. 1.]\n",
      " [1. 1. 1. 1.]\n",
      " [1. 1. 1. 1.]]\n"
     ]
    }
   ],
   "source": [
    "#Arithmetic operators with multi dimensional array\n",
    "c=np.arange(0,12).reshape(3,4)\n",
    "d=np.ones((3,4))\n",
    "print(c)\n",
    "print(d)"
   ]
  },
  {
   "cell_type": "code",
   "execution_count": null,
   "id": "dbc81109-6e09-4890-b825-4d57e0d5842f",
   "metadata": {},
   "outputs": [],
   "source": [
    "result_addition1= c+d\n",
    "result_subtraction1=c-d\n",
    "result_multiplication1=c*d\n",
    "result_division1=c/d\n",
    "result_modulus1=c%d\n",
    "result_exponentiation1=c**d\n",
    "#print\n",
    "print(\"Addition:\",result_addition1)\n",
    "print(\"Subtraction:\",result_subtraction1)\n",
    "print(\"Multiplication:\",result_multiplication1)\n",
    "print(\"Division:\",result_division1)\n",
    "print(\"Modulus:\",result_modulus1)\n",
    "print(\"Exponentiation:\",result_exponentiation1)"
   ]
  },
  {
   "cell_type": "code",
   "execution_count": 32,
   "id": "48d458a6-5f33-4f81-a021-3a0e82e18f35",
   "metadata": {},
   "outputs": [
    {
     "data": {
      "text/plain": [
       "array([[ 0,  1,  2,  3],\n",
       "       [ 4,  5,  6,  7],\n",
       "       [ 8,  9, 10, 11]])"
      ]
     },
     "execution_count": 32,
     "metadata": {},
     "output_type": "execute_result"
    }
   ],
   "source": [
    "#Arithmetic operators with multi dimensional array\n",
    "c=np.arange(0,12).reshape(3,4)\n",
    "c"
   ]
  },
  {
   "cell_type": "code",
   "execution_count": 33,
   "id": "9b03d03b-d1ef-4d16-be00-98c6ed15b957",
   "metadata": {},
   "outputs": [
    {
     "ename": "ValueError",
     "evalue": "cannot reshape array of size 12 into shape (2,4)",
     "output_type": "error",
     "traceback": [
      "\u001b[1;31m---------------------------------------------------------------------------\u001b[0m",
      "\u001b[1;31mValueError\u001b[0m                                Traceback (most recent call last)",
      "Cell \u001b[1;32mIn[33], line 2\u001b[0m\n\u001b[0;32m      1\u001b[0m \u001b[38;5;66;03m#Arithmetic operators with multi dimensional array\u001b[39;00m\n\u001b[1;32m----> 2\u001b[0m c\u001b[38;5;241m=\u001b[39mnp\u001b[38;5;241m.\u001b[39marange(\u001b[38;5;241m0\u001b[39m,\u001b[38;5;241m12\u001b[39m)\u001b[38;5;241m.\u001b[39mreshape(\u001b[38;5;241m2\u001b[39m,\u001b[38;5;241m4\u001b[39m)\n\u001b[0;32m      3\u001b[0m c\n",
      "\u001b[1;31mValueError\u001b[0m: cannot reshape array of size 12 into shape (2,4)"
     ]
    }
   ],
   "source": [
    "#Arithmetic operators with multi dimensional array\n",
    "c=np.arange(0,12).reshape(2,4)\n",
    "c"
   ]
  },
  {
   "cell_type": "code",
   "execution_count": 34,
   "id": "3b494f6b-b627-4be1-9a74-2e4f0f3413cd",
   "metadata": {},
   "outputs": [
    {
     "name": "stdout",
     "output_type": "stream",
     "text": [
      "[[0 1 2]\n",
      " [3 4 5]\n",
      " [6 7 8]]\n",
      "[[1. 1. 1.]\n",
      " [1. 1. 1.]\n",
      " [1. 1. 1.]]\n",
      "[[ 3.  3.  3.]\n",
      " [12. 12. 12.]\n",
      " [21. 21. 21.]]\n"
     ]
    }
   ],
   "source": [
    "#matrix product 0*1=0,1*1=1,2*1=2 (0+1+2)=3\n",
    "e=np.arange(0,9).reshape(3,3)\n",
    "f=np.ones((3,3))\n",
    "print(e)\n",
    "print(f)\n",
    "print(np.dot(e,f))"
   ]
  },
  {
   "cell_type": "markdown",
   "id": "c1127a12-8135-4fab-95f6-5ba0b28d14f3",
   "metadata": {},
   "source": [
    "Matrix Product"
   ]
  },
  {
   "cell_type": "code",
   "execution_count": null,
   "id": "97bd8bcb-d700-45f1-927d-d8229c59a7e4",
   "metadata": {},
   "outputs": [],
   "source": []
  }
 ],
 "metadata": {
  "kernelspec": {
   "display_name": "Python 3 (ipykernel)",
   "language": "python",
   "name": "python3"
  },
  "language_info": {
   "codemirror_mode": {
    "name": "ipython",
    "version": 3
   },
   "file_extension": ".py",
   "mimetype": "text/x-python",
   "name": "python",
   "nbconvert_exporter": "python",
   "pygments_lexer": "ipython3",
   "version": "3.11.5"
  }
 },
 "nbformat": 4,
 "nbformat_minor": 5
}
