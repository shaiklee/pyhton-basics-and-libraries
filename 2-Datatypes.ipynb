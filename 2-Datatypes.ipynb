{
 "cells": [
  {
   "cell_type": "code",
   "execution_count": null,
   "id": "a8379f35-ee6b-4991-995e-9fa750ae3f9f",
   "metadata": {},
   "outputs": [],
   "source": [
    "#DATA TYPES : Data types are the classification or categorization of data items. Python supports primitive data types."
   ]
  },
  {
   "cell_type": "code",
   "execution_count": 8,
   "id": "bfd9ae6a-a4c9-4383-9575-e98edbfcf276",
   "metadata": {},
   "outputs": [
    {
     "name": "stdout",
     "output_type": "stream",
     "text": [
      "Type of a:  <class 'int'>\n",
      "\n",
      "Type of b:  <class 'float'>\n",
      "\n",
      "Type of c:  <class 'complex'>\n"
     ]
    }
   ],
   "source": [
    "#Numbers - integers, float, complex numbers\n",
    "a = 50\n",
    "print(\"Type of a: \", type(a)) #integer   \n",
    "b = 5.0\n",
    "print(\"\\nType of b: \", type(b)) #float  \n",
    "c = 8 + 8j\n",
    "print(\"\\nType of c: \", type(c)) #complex"
   ]
  },
  {
   "cell_type": "code",
   "execution_count": 7,
   "id": "dd8707ee-ee76-408a-a248-6c83c6196084",
   "metadata": {},
   "outputs": [
    {
     "name": "stdout",
     "output_type": "stream",
     "text": [
      "<class 'str'>\n"
     ]
    }
   ],
   "source": [
    "#Strings: Anything written inside single ('') or double quotes (\" \") in python is considered as a string.\n",
    "string=\"Hi everyone\"\n",
    "print(type(string))"
   ]
  },
  {
   "cell_type": "code",
   "execution_count": 2,
   "id": "35aece87-dff6-4f6f-9a5f-1c02a771c05e",
   "metadata": {},
   "outputs": [
    {
     "name": "stdout",
     "output_type": "stream",
     "text": [
      "e\n",
      "ep\n",
      "morning!Edurekans\n",
      "Good morning!Edurekans..I like to learn Data Science\n",
      "Machine learningMachine learningMachine learning\n"
     ]
    }
   ],
   "source": [
    "'''String operations\n",
    "* Slicing in Python refers to extracting a subset or specific part of the sequence\n",
    "* Indexing refers to accessing a single element from an array, it is used to get slices of arrays.\n",
    "* operator + is used for concatenation(join) of 2 strings\n",
    "* operator * is used to print an element multiple times'''\n",
    "\n",
    "\n",
    "mystring=\"Good morning!Edurekans..\"\n",
    "str_a=\"I like to learn Data Science\"\n",
    "str_b=\"Machine learning\"\n",
    "str_c=\"Deep learning\"\n",
    "#indexing\n",
    "print(str_a[5])\n",
    "#slicing\n",
    "print(str_c[2:4])\n",
    "print(mystring[5:-2])\n",
    "#concatenation\n",
    "print(mystring+str_a)\n",
    "#repetition\n",
    "print(str_b*3)"
   ]
  },
  {
   "cell_type": "code",
   "execution_count": 5,
   "id": "466d4482-68e2-43b3-8cf5-2ce6cd31ac04",
   "metadata": {},
   "outputs": [
    {
     "name": "stdout",
     "output_type": "stream",
     "text": [
      "<class 'list'>\n",
      "['zero', 'one', 2, 3, 4, 'five']\n"
     ]
    }
   ],
   "source": [
    "#List - collection of objects seperated by comma enclosed within square brackets.\n",
    "sample=[\"zero\",\"one\",2,3,4,\"five\"]\n",
    "print(type(sample))\n",
    "print(sample)"
   ]
  },
  {
   "cell_type": "code",
   "execution_count": 9,
   "id": "49cdd08c-28f1-4d92-8a66-70c3905b83a9",
   "metadata": {},
   "outputs": [
    {
     "name": "stdin",
     "output_type": "stream",
     "text": [
      "Sales data (separated by comma): 123,234,456,789,888\n"
     ]
    },
    {
     "name": "stdout",
     "output_type": "stream",
     "text": [
      "Sales of the week: [123, 234, 456]\n",
      "Sales of fourth day: 789\n",
      "Sorted sales in ascending order: [123, 234, 456, 789, 888]\n",
      "Sorted sales in descending order: [123, 234, 456, 789]\n",
      "sales in last two weeks: [123, 234, 456, 789, 888, 651, 752, 673, 85, 567, 750]\n"
     ]
    },
    {
     "name": "stdin",
     "output_type": "stream",
     "text": [
      "Last day sales: 789\n"
     ]
    },
    {
     "name": "stdout",
     "output_type": "stream",
     "text": [
      "Sales in last two weeks(appended last day sales): [123, 234, 456, 789, 888, 651, 752, 673, 85, 567, 750, 789]\n",
      "Total sales: 6757\n",
      "Total sales: 888\n",
      "Minimum sales: 85\n"
     ]
    }
   ],
   "source": [
    "#Wilson's sales scenario - List operations\n",
    "sales = map(int, input('Sales data (separated by comma):').split(','))\n",
    "sales = list(sales)\n",
    "#slicing\n",
    "print('Sales of the week:',sales[:3])\n",
    "#indexing\n",
    "print('Sales of fourth day:',sales[3])\n",
    "#sorting\n",
    "sales.sort()\n",
    "print('Sorted sales in ascending order:',sales)\n",
    "print('Sorted sales in descending order:',sales[:-1])\n",
    "#extending - add data(extend function adds multiple elements)\n",
    "second_week=[651,752,673,85,567,750]\n",
    "sales.extend(second_week)\n",
    "print('sales in last two weeks:',sales)\n",
    "#appending- adds a single element to the end of the list\n",
    "last_day=int(input('Last day sales:'))\n",
    "sales.append(last_day)\n",
    "print('Sales in last two weeks(appended last day sales):',sales)\n",
    "#total sales - sum\n",
    "print('Total sales:',sum(sales))\n",
    "#maximum sales\n",
    "print('Total sales:',max(sales))\n",
    "#minimum sales\n",
    "print('Minimum sales:',min(sales))"
   ]
  },
  {
   "cell_type": "code",
   "execution_count": 10,
   "id": "3f3fdb78-a369-4798-ba8b-05194044b993",
   "metadata": {},
   "outputs": [
    {
     "name": "stdout",
     "output_type": "stream",
     "text": [
      "(1, 3, 5)\n",
      "(1, 'Edureka', 4.5)\n",
      "('data', [1, 4, 5], ('a', 'b', 'c'))\n"
     ]
    }
   ],
   "source": [
    "#Tuples - Collection of objects seperated by comma enclosed within parenthesis. Tuples are immutable and fast\n",
    "my_tuple=(1,3,5)\n",
    "print(my_tuple)\n",
    "#tuple with mixed data type\n",
    "my_tuple=(1,\"Edureka\",4.5)\n",
    "print(my_tuple)\n",
    "my_tuple=('data',[1,4,7],('a','b','c'))\n",
    "#replace value\n",
    "my_tuple[1][2]=5\n",
    "print(my_tuple)"
   ]
  },
  {
   "cell_type": "code",
   "execution_count": 2,
   "id": "92580b6e-d0c7-41ba-94a1-52d45db26857",
   "metadata": {},
   "outputs": [
    {
     "name": "stdout",
     "output_type": "stream",
     "text": [
      "<class 'set'>\n"
     ]
    }
   ],
   "source": [
    "#Sets - Collection of unique unordered items inside curly braces{} seperated by comma. Sets do not support indexing.\n",
    "vowels={'a','e','i','o','u'}\n",
    "print(type(vowels))"
   ]
  },
  {
   "cell_type": "code",
   "execution_count": 5,
   "id": "990f3952-f5cd-4b53-abe7-f11e34e4922b",
   "metadata": {},
   "outputs": [
    {
     "name": "stdout",
     "output_type": "stream",
     "text": [
      "{1, 2, 3, 4, 5, 6, 7, 8, 9}\n",
      "{8, 3, 5}\n",
      "{1, 2, 4}\n",
      "{1, 2, 4, 6, 7, 9}\n"
     ]
    }
   ],
   "source": [
    "#set operations\n",
    "set_a ={1,2,3,4,5,8}\n",
    "set_b={5,6,7,8,9,3}\n",
    "print(set_a|set_b) #union\n",
    "print(set_a & set_b) #intersection\n",
    "print(set_a.difference(set_b)) #difference\n",
    "print(set_a.symmetric_difference(set_b)) #symmetric difference"
   ]
  },
  {
   "cell_type": "code",
   "execution_count": 6,
   "id": "ba86b0e3-df4c-4fb0-af05-82f8141f1fd3",
   "metadata": {},
   "outputs": [
    {
     "name": "stdout",
     "output_type": "stream",
     "text": [
      "<class 'dict'>\n"
     ]
    }
   ],
   "source": [
    "#Dictionary - Collection of objects as a KEY_VALUE pair. Each key and its value is seperated by colon(:)\n",
    "emp_data={'Name':'James', 'Age':34,'Department':'Finance'}\n",
    "print(type(emp_data))\n"
   ]
  },
  {
   "cell_type": "code",
   "execution_count": 12,
   "id": "322fef95-c1b7-4fea-8355-220d5102764a",
   "metadata": {},
   "outputs": [
    {
     "name": "stdout",
     "output_type": "stream",
     "text": [
      "{'Name': None, 'ID': None, 'Class': None}\n",
      "dict_items([('Name', 'Goku'), ('ID', 2345), ('Class', 'B')])\n",
      "dict_keys(['Name', 'ID', 'Class'])\n",
      "dict_values(['Sherlock', 789, 'C'])\n",
      "{'Name': 'Sherlock', 'age': 28}\n",
      "{'Name': 'Sherlock', 'age': 28, 'address': 'Bangalore'}\n",
      "Bangalore\n",
      "('age', 28)\n",
      "{'Name': 'Sherlock'}\n"
     ]
    }
   ],
   "source": [
    "#dictionary operations\n",
    "keys=['Name','ID','Class']\n",
    "my_dict=dict.fromkeys(keys) #fromkeys:creates a new dictionary from the given iterable (string, list, set, tuple) as keys and with the specified value.\n",
    "print(my_dict)\n",
    "my_dict['Name']=\"Goku\"\n",
    "my_dict['ID']=2345\n",
    "my_dict['Class']=\"B\"\n",
    "print(my_dict.items())\n",
    "print(my_dict.keys())\n",
    "new_dict={'Name':'Sherlock','ID':789,'Class':'C'}\n",
    "#Update\n",
    "my_dict.update(new_dict)\n",
    "print(my_dict.values())\n",
    "#pop() removes element by returning corresponding values\n",
    "#popitem() removes arbitrary item and return it.\n",
    "my_dict={'Name':'Sherlock','age':26}\n",
    "my_dict['age']=28\n",
    "print(my_dict)\n",
    "#insertion\n",
    "my_dict['address']='Bangalore'\n",
    "print(my_dict)\n",
    "#deletion\n",
    "print(my_dict.pop('address'))\n",
    "print(my_dict.popitem())\n",
    "print(my_dict)\n"
   ]
  }
 ],
 "metadata": {
  "kernelspec": {
   "display_name": "Python 3 (ipykernel)",
   "language": "python",
   "name": "python3"
  },
  "language_info": {
   "codemirror_mode": {
    "name": "ipython",
    "version": 3
   },
   "file_extension": ".py",
   "mimetype": "text/x-python",
   "name": "python",
   "nbconvert_exporter": "python",
   "pygments_lexer": "ipython3",
   "version": "3.11.5"
  }
 },
 "nbformat": 4,
 "nbformat_minor": 5
}
